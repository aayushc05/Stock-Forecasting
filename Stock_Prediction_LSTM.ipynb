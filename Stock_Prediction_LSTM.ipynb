{
  "nbformat": 4,
  "nbformat_minor": 0,
  "metadata": {
    "colab": {
      "name": "Untitled14.ipynb",
      "provenance": []
    },
    "kernelspec": {
      "name": "python3",
      "display_name": "Python 3"
    }
  },
  "cells": [
    {
      "cell_type": "code",
      "metadata": {
        "id": "ltTQaVIyumQH"
      },
      "source": [
        "### Data Collection\r\n",
        "import pandas_datareader as pdr\r\n",
        "key=\"41eebfc4dc3bc3422af257e55f11eacfd2a67cbf\""
      ],
      "execution_count": 227,
      "outputs": []
    },
    {
      "cell_type": "code",
      "metadata": {
        "id": "IhgI78wvuprN"
      },
      "source": [
        "df = pdr.get_data_tiingo('TSLA', api_key=key)"
      ],
      "execution_count": 311,
      "outputs": []
    },
    {
      "cell_type": "code",
      "metadata": {
        "id": "UFHC7pnWxjHi"
      },
      "source": [
        "df.to_csv('Stock.csv')"
      ],
      "execution_count": 312,
      "outputs": []
    },
    {
      "cell_type": "code",
      "metadata": {
        "id": "y8ak0dZr0J1G"
      },
      "source": [
        "import pandas as pd"
      ],
      "execution_count": 313,
      "outputs": []
    },
    {
      "cell_type": "code",
      "metadata": {
        "id": "G1PaBtJx0J4f"
      },
      "source": [
        "df=pd.read_csv('Stock.csv')"
      ],
      "execution_count": 314,
      "outputs": []
    },
    {
      "cell_type": "code",
      "metadata": {
        "colab": {
          "base_uri": "https://localhost:8080/",
          "height": 197
        },
        "id": "-rMu-E5UxjMk",
        "outputId": "12e4536a-ad71-4ef2-f9e4-93a0fa423118"
      },
      "source": [
        "df.head()"
      ],
      "execution_count": 315,
      "outputs": [
        {
          "output_type": "execute_result",
          "data": {
            "text/html": [
              "<div>\n",
              "<style scoped>\n",
              "    .dataframe tbody tr th:only-of-type {\n",
              "        vertical-align: middle;\n",
              "    }\n",
              "\n",
              "    .dataframe tbody tr th {\n",
              "        vertical-align: top;\n",
              "    }\n",
              "\n",
              "    .dataframe thead th {\n",
              "        text-align: right;\n",
              "    }\n",
              "</style>\n",
              "<table border=\"1\" class=\"dataframe\">\n",
              "  <thead>\n",
              "    <tr style=\"text-align: right;\">\n",
              "      <th></th>\n",
              "      <th>symbol</th>\n",
              "      <th>date</th>\n",
              "      <th>close</th>\n",
              "      <th>high</th>\n",
              "      <th>low</th>\n",
              "      <th>open</th>\n",
              "      <th>volume</th>\n",
              "      <th>adjClose</th>\n",
              "      <th>adjHigh</th>\n",
              "      <th>adjLow</th>\n",
              "      <th>adjOpen</th>\n",
              "      <th>adjVolume</th>\n",
              "      <th>divCash</th>\n",
              "      <th>splitFactor</th>\n",
              "    </tr>\n",
              "  </thead>\n",
              "  <tbody>\n",
              "    <tr>\n",
              "      <th>0</th>\n",
              "      <td>TSLA</td>\n",
              "      <td>2016-02-16 00:00:00+00:00</td>\n",
              "      <td>155.17</td>\n",
              "      <td>162.95</td>\n",
              "      <td>154.11</td>\n",
              "      <td>158.70</td>\n",
              "      <td>5593794</td>\n",
              "      <td>31.034</td>\n",
              "      <td>32.590</td>\n",
              "      <td>30.822</td>\n",
              "      <td>31.740</td>\n",
              "      <td>27968970</td>\n",
              "      <td>0.0</td>\n",
              "      <td>1.0</td>\n",
              "    </tr>\n",
              "    <tr>\n",
              "      <th>1</th>\n",
              "      <td>TSLA</td>\n",
              "      <td>2016-02-17 00:00:00+00:00</td>\n",
              "      <td>168.68</td>\n",
              "      <td>169.34</td>\n",
              "      <td>156.68</td>\n",
              "      <td>159.00</td>\n",
              "      <td>5825159</td>\n",
              "      <td>33.736</td>\n",
              "      <td>33.868</td>\n",
              "      <td>31.336</td>\n",
              "      <td>31.800</td>\n",
              "      <td>29125795</td>\n",
              "      <td>0.0</td>\n",
              "      <td>1.0</td>\n",
              "    </tr>\n",
              "    <tr>\n",
              "      <th>2</th>\n",
              "      <td>TSLA</td>\n",
              "      <td>2016-02-18 00:00:00+00:00</td>\n",
              "      <td>166.77</td>\n",
              "      <td>172.95</td>\n",
              "      <td>164.77</td>\n",
              "      <td>172.42</td>\n",
              "      <td>3887574</td>\n",
              "      <td>33.354</td>\n",
              "      <td>34.590</td>\n",
              "      <td>32.954</td>\n",
              "      <td>34.484</td>\n",
              "      <td>19437870</td>\n",
              "      <td>0.0</td>\n",
              "      <td>1.0</td>\n",
              "    </tr>\n",
              "    <tr>\n",
              "      <th>3</th>\n",
              "      <td>TSLA</td>\n",
              "      <td>2016-02-19 00:00:00+00:00</td>\n",
              "      <td>166.58</td>\n",
              "      <td>167.49</td>\n",
              "      <td>162.50</td>\n",
              "      <td>163.66</td>\n",
              "      <td>2959390</td>\n",
              "      <td>33.316</td>\n",
              "      <td>33.498</td>\n",
              "      <td>32.500</td>\n",
              "      <td>32.732</td>\n",
              "      <td>14796950</td>\n",
              "      <td>0.0</td>\n",
              "      <td>1.0</td>\n",
              "    </tr>\n",
              "    <tr>\n",
              "      <th>4</th>\n",
              "      <td>TSLA</td>\n",
              "      <td>2016-02-22 00:00:00+00:00</td>\n",
              "      <td>177.74</td>\n",
              "      <td>178.91</td>\n",
              "      <td>169.85</td>\n",
              "      <td>170.12</td>\n",
              "      <td>5060051</td>\n",
              "      <td>35.548</td>\n",
              "      <td>35.782</td>\n",
              "      <td>33.970</td>\n",
              "      <td>34.024</td>\n",
              "      <td>25300255</td>\n",
              "      <td>0.0</td>\n",
              "      <td>1.0</td>\n",
              "    </tr>\n",
              "  </tbody>\n",
              "</table>\n",
              "</div>"
            ],
            "text/plain": [
              "  symbol                       date   close  ...  adjVolume  divCash  splitFactor\n",
              "0   TSLA  2016-02-16 00:00:00+00:00  155.17  ...   27968970      0.0          1.0\n",
              "1   TSLA  2016-02-17 00:00:00+00:00  168.68  ...   29125795      0.0          1.0\n",
              "2   TSLA  2016-02-18 00:00:00+00:00  166.77  ...   19437870      0.0          1.0\n",
              "3   TSLA  2016-02-19 00:00:00+00:00  166.58  ...   14796950      0.0          1.0\n",
              "4   TSLA  2016-02-22 00:00:00+00:00  177.74  ...   25300255      0.0          1.0\n",
              "\n",
              "[5 rows x 14 columns]"
            ]
          },
          "metadata": {
            "tags": []
          },
          "execution_count": 315
        }
      ]
    },
    {
      "cell_type": "code",
      "metadata": {
        "id": "APL9CmLkxjRg"
      },
      "source": [
        "df1=df.reset_index()['close']"
      ],
      "execution_count": 316,
      "outputs": []
    },
    {
      "cell_type": "code",
      "metadata": {
        "colab": {
          "base_uri": "https://localhost:8080/",
          "height": 282
        },
        "id": "OXxBTDGWupuk",
        "outputId": "c55383f4-1101-4c8d-d5b3-71494ccef152"
      },
      "source": [
        "import matplotlib.pyplot as plt\r\n",
        "plt.plot(df1)"
      ],
      "execution_count": 317,
      "outputs": [
        {
          "output_type": "execute_result",
          "data": {
            "text/plain": [
              "[<matplotlib.lines.Line2D at 0x7fa85800ff98>]"
            ]
          },
          "metadata": {
            "tags": []
          },
          "execution_count": 317
        },
        {
          "output_type": "display_data",
          "data": {
            "image/png": "[encoded data removed]",
            "text/plain": [
              "<Figure size 432x288 with 1 Axes>"
            ]
          },
          "metadata": {
            "tags": [],
            "needs_background": "light"
          }
        }
      ]
    },
    {
      "cell_type": "code",
      "metadata": {
        "colab": {
          "base_uri": "https://localhost:8080/"
        },
        "id": "o3FzqWCqupx9",
        "outputId": "ed993ad9-02b9-4b19-ed87-eefd0b5fe7c3"
      },
      "source": [
        "### LSTM are sensitive to the scale of the data. so we apply MinMax scaler\r\n",
        "import numpy as np\r\n",
        "\r\n",
        "df1"
      ],
      "execution_count": 318,
      "outputs": [
        {
          "output_type": "execute_result",
          "data": {
            "text/plain": [
              "0       155.17\n",
              "1       168.68\n",
              "2       166.77\n",
              "3       166.58\n",
              "4       177.74\n",
              "         ...  \n",
              "1252    849.99\n",
              "1253    852.23\n",
              "1254    863.42\n",
              "1255    849.46\n",
              "1256    804.82\n",
              "Name: close, Length: 1257, dtype: float64"
            ]
          },
          "metadata": {
            "tags": []
          },
          "execution_count": 318
        }
      ]
    },
    {
      "cell_type": "code",
      "metadata": {
        "id": "dDULMR3x0ro6"
      },
      "source": [
        "from sklearn.preprocessing import MinMaxScaler\r\n",
        "scaler=MinMaxScaler(feature_range=(0,1))\r\n",
        "df1=scaler.fit_transform(np.array(df1).reshape(-1,1))"
      ],
      "execution_count": 319,
      "outputs": []
    },
    {
      "cell_type": "code",
      "metadata": {
        "colab": {
          "base_uri": "https://localhost:8080/"
        },
        "id": "7C27AgKS0r2V",
        "outputId": "402daf28-2c66-424e-ca30-4a172fd870de"
      },
      "source": [
        "print(df1)"
      ],
      "execution_count": 320,
      "outputs": [
        {
          "output_type": "stream",
          "text": [
            "[[0.        ]\n",
            " [0.00648403]\n",
            " [0.00556734]\n",
            " ...\n",
            " [0.33991975]\n",
            " [0.33321975]\n",
            " [0.31179508]]\n"
          ],
          "name": "stdout"
        }
      ]
    },
    {
      "cell_type": "code",
      "metadata": {
        "id": "pMLe85Kn0z_v"
      },
      "source": [
        "##splitting dataset into train and test split\r\n",
        "training_size=int(len(df1)*0.65)\r\n",
        "test_size=len(df1)-training_size\r\n",
        "train_data,test_data=df1[0:training_size,:],df1[training_size:len(df1),:1]"
      ],
      "execution_count": 321,
      "outputs": []
    },
    {
      "cell_type": "code",
      "metadata": {
        "colab": {
          "base_uri": "https://localhost:8080/"
        },
        "id": "mgTFmBxq00Ly",
        "outputId": "f1b0f2d3-1489-4061-cfe2-8b77ee1a2c10"
      },
      "source": [
        "training_size,test_size"
      ],
      "execution_count": 322,
      "outputs": [
        {
          "output_type": "execute_result",
          "data": {
            "text/plain": [
              "(817, 440)"
            ]
          },
          "metadata": {
            "tags": []
          },
          "execution_count": 322
        }
      ]
    },
    {
      "cell_type": "code",
      "metadata": {
        "colab": {
          "base_uri": "https://localhost:8080/"
        },
        "id": "9jIG1sBB0-OV",
        "outputId": "a8daddb0-d992-4727-f5b9-03082140cb3c"
      },
      "source": [
        "train_data"
      ],
      "execution_count": 323,
      "outputs": [
        {
          "output_type": "execute_result",
          "data": {
            "text/plain": [
              "array([[0.        ],\n",
              "       [0.00648403],\n",
              "       [0.00556734],\n",
              "       [0.00547615],\n",
              "       [0.01083232],\n",
              "       [0.01057795],\n",
              "       [0.01143705],\n",
              "       [0.01548297],\n",
              "       [0.0168796 ],\n",
              "       [0.01764271],\n",
              "       [0.01496463],\n",
              "       [0.01591972],\n",
              "       [0.01947129],\n",
              "       [0.02201499],\n",
              "       [0.02405475],\n",
              "       [0.0227637 ],\n",
              "       [0.02570096],\n",
              "       [0.02400196],\n",
              "       [0.02511543],\n",
              "       [0.02878699],\n",
              "       [0.03031801],\n",
              "       [0.03204101],\n",
              "       [0.03417675],\n",
              "       [0.03722919],\n",
              "       [0.03990727],\n",
              "       [0.03794911],\n",
              "       [0.03235297],\n",
              "       [0.03483428],\n",
              "       [0.03603893],\n",
              "       [0.03597654],\n",
              "       [0.03442152],\n",
              "       [0.03580376],\n",
              "       [0.03955692],\n",
              "       [0.04406838],\n",
              "       [0.0481383 ],\n",
              "       [0.05291374],\n",
              "       [0.0489686 ],\n",
              "       [0.04554661],\n",
              "       [0.04547462],\n",
              "       [0.04446674],\n",
              "       [0.04768715],\n",
              "       [0.04640571],\n",
              "       [0.04767755],\n",
              "       [0.04737519],\n",
              "       [0.04425076],\n",
              "       [0.04549861],\n",
              "       [0.04469231],\n",
              "       [0.0473128 ],\n",
              "       [0.04638651],\n",
              "       [0.047308  ],\n",
              "       [0.04621853],\n",
              "       [0.04441394],\n",
              "       [0.04107834],\n",
              "       [0.04157748],\n",
              "       [0.03702762],\n",
              "       [0.03234337],\n",
              "       [0.0270496 ],\n",
              "       [0.0286814 ],\n",
              "       [0.02579695],\n",
              "       [0.02568656],\n",
              "       [0.02581614],\n",
              "       [0.02500984],\n",
              "       [0.02516822],\n",
              "       [0.02549458],\n",
              "       [0.02375239],\n",
              "       [0.02687682],\n",
              "       [0.02881579],\n",
              "       [0.0312491 ],\n",
              "       [0.02930053],\n",
              "       [0.03011163],\n",
              "       [0.03091314],\n",
              "       [0.03357203],\n",
              "       [0.03257374],\n",
              "       [0.03266493],\n",
              "       [0.03090354],\n",
              "       [0.03061558],\n",
              "       [0.03062997],\n",
              "       [0.03144108],\n",
              "       [0.03703721],\n",
              "       [0.03856343],\n",
              "       [0.03560698],\n",
              "       [0.03053398],\n",
              "       [0.03009244],\n",
              "       [0.0286958 ],\n",
              "       [0.03001085],\n",
              "       [0.03012123],\n",
              "       [0.02894057],\n",
              "       [0.03097073],\n",
              "       [0.03092754],\n",
              "       [0.01991284],\n",
              "       [0.01978806],\n",
              "       [0.01822824],\n",
              "       [0.02081993],\n",
              "       [0.02237495],\n",
              "       [0.02640647],\n",
              "       [0.02740955],\n",
              "       [0.02943491],\n",
              "       [0.02822546],\n",
              "       [0.02844623],\n",
              "       [0.02916615],\n",
              "       [0.0295693 ],\n",
              "       [0.03340884],\n",
              "       [0.03334645],\n",
              "       [0.03232897],\n",
              "       [0.03184903],\n",
              "       [0.03130669],\n",
              "       [0.03411436],\n",
              "       [0.03363922],\n",
              "       [0.03512704],\n",
              "       [0.03135469],\n",
              "       [0.03220419],\n",
              "       [0.03591895],\n",
              "       [0.03567898],\n",
              "       [0.03518943],\n",
              "       [0.03620691],\n",
              "       [0.03821308],\n",
              "       [0.03591895],\n",
              "       [0.03457031],\n",
              "       [0.03389359],\n",
              "       [0.03620691],\n",
              "       [0.03592855],\n",
              "       [0.03407117],\n",
              "       [0.0354726 ],\n",
              "       [0.03382639],\n",
              "       [0.03347124],\n",
              "       [0.0338072 ],\n",
              "       [0.0337976 ],\n",
              "       [0.03284731],\n",
              "       [0.03266973],\n",
              "       [0.03279932],\n",
              "       [0.03351443],\n",
              "       [0.03252095],\n",
              "       [0.03343764],\n",
              "       [0.03237217],\n",
              "       [0.03157546],\n",
              "       [0.03110992],\n",
              "       [0.02881099],\n",
              "       [0.02695841],\n",
              "       [0.02727997],\n",
              "       [0.02188541],\n",
              "       [0.02045038],\n",
              "       [0.02287409],\n",
              "       [0.02233656],\n",
              "       [0.0202488 ],\n",
              "       [0.01886177],\n",
              "       [0.02069995],\n",
              "       [0.01962008],\n",
              "       [0.01979286],\n",
              "       [0.02171743],\n",
              "       [0.02410755],\n",
              "       [0.02455869],\n",
              "       [0.02374279],\n",
              "       [0.02402116],\n",
              "       [0.02460189],\n",
              "       [0.02509143],\n",
              "       [0.02583054],\n",
              "       [0.02430432],\n",
              "       [0.0245251 ],\n",
              "       [0.02185181],\n",
              "       [0.02345002],\n",
              "       [0.02809107],\n",
              "       [0.026992  ],\n",
              "       [0.02557617],\n",
              "       [0.0219958 ],\n",
              "       [0.01988885],\n",
              "       [0.0219718 ],\n",
              "       [0.02156385],\n",
              "       [0.02224057],\n",
              "       [0.02163104],\n",
              "       [0.01984085],\n",
              "       [0.018617  ],\n",
              "       [0.0210839 ],\n",
              "       [0.02322445],\n",
              "       [0.0210839 ],\n",
              "       [0.02155905],\n",
              "       [0.0228405 ],\n",
              "       [0.02263892],\n",
              "       [0.02259093],\n",
              "       [0.02344042],\n",
              "       [0.02150145],\n",
              "       [0.02042638],\n",
              "       [0.01709558],\n",
              "       [0.01576613],\n",
              "       [0.01547817],\n",
              "       [0.01698519],\n",
              "       [0.01825704],\n",
              "       [0.01908734],\n",
              "       [0.01674522],\n",
              "       [0.01448469],\n",
              "       [0.0160253 ],\n",
              "       [0.01261291],\n",
              "       [0.01372637],\n",
              "       [0.01380317],\n",
              "       [0.0160733 ],\n",
              "       [0.0143263 ],\n",
              "       [0.01408633],\n",
              "       [0.01727795],\n",
              "       [0.01822344],\n",
              "       [0.01990804],\n",
              "       [0.01965367],\n",
              "       [0.01651005],\n",
              "       [0.01642845],\n",
              "       [0.01281928],\n",
              "       [0.01262251],\n",
              "       [0.0151806 ],\n",
              "       [0.01472466],\n",
              "       [0.01822824],\n",
              "       [0.01781549],\n",
              "       [0.0177627 ],\n",
              "       [0.01788268],\n",
              "       [0.02062796],\n",
              "       [0.02088713],\n",
              "       [0.02035439],\n",
              "       [0.02271091],\n",
              "       [0.0228261 ],\n",
              "       [0.02573455],\n",
              "       [0.02521141],\n",
              "       [0.02557137],\n",
              "       [0.02791829],\n",
              "       [0.03088914],\n",
              "       [0.03098993],\n",
              "       [0.02856142],\n",
              "       [0.02808627],\n",
              "       [0.02967009],\n",
              "       [0.03446952],\n",
              "       [0.03435433],\n",
              "       [0.035439  ],\n",
              "       [0.03652848],\n",
              "       [0.03585176],\n",
              "       [0.03578456],\n",
              "       [0.03571737],\n",
              "       [0.03963371],\n",
              "       [0.03859223],\n",
              "       [0.03992647],\n",
              "       [0.04251817],\n",
              "       [0.04298371],\n",
              "       [0.04499467],\n",
              "       [0.04772555],\n",
              "       [0.04765836],\n",
              "       [0.04671767],\n",
              "       [0.04692884],\n",
              "       [0.04581538],\n",
              "       [0.0464393 ],\n",
              "       [0.04514825],\n",
              "       [0.04625692],\n",
              "       [0.04615134],\n",
              "       [0.04924217],\n",
              "       [0.04910299],\n",
              "       [0.05131072],\n",
              "       [0.05472792],\n",
              "       [0.05474232],\n",
              "       [0.06019927],\n",
              "       [0.06038165],\n",
              "       [0.05979612],\n",
              "       [0.05460793],\n",
              "       [0.05618215],\n",
              "       [0.05865865],\n",
              "       [0.05679648],\n",
              "       [0.04838787],\n",
              "       [0.04887261],\n",
              "       [0.04370363],\n",
              "       [0.04550821],\n",
              "       [0.04552261],\n",
              "       [0.04574338],\n",
              "       [0.04626652],\n",
              "       [0.04609374],\n",
              "       [0.04483629],\n",
              "       [0.04401079],\n",
              "       [0.0430653 ],\n",
              "       [0.04248457],\n",
              "       [0.04367483],\n",
              "       [0.04935256],\n",
              "       [0.04826309],\n",
              "       [0.05129633],\n",
              "       [0.05103236],\n",
              "       [0.05123393],\n",
              "       [0.04583937],\n",
              "       [0.04791753],\n",
              "       [0.04780714],\n",
              "       [0.05182906],\n",
              "       [0.05521746],\n",
              "       [0.05868745],\n",
              "       [0.05865386],\n",
              "       [0.05891302],\n",
              "       [0.0590954 ],\n",
              "       [0.06879985],\n",
              "       [0.07128596],\n",
              "       [0.06711045],\n",
              "       [0.06888624],\n",
              "       [0.07072923],\n",
              "       [0.07545667],\n",
              "       [0.07369048],\n",
              "       [0.06799355],\n",
              "       [0.07142994],\n",
              "       [0.07020129],\n",
              "       [0.06963016],\n",
              "       [0.07215946],\n",
              "       [0.07071483],\n",
              "       [0.07219785],\n",
              "       [0.07336411],\n",
              "       [0.07612859],\n",
              "       [0.07439119],\n",
              "       [0.07365208],\n",
              "       [0.07626297],\n",
              "       [0.08046727],\n",
              "       [0.0785763 ],\n",
              "       [0.07479914],\n",
              "       [0.06733123],\n",
              "       [0.0735177 ],\n",
              "       [0.07296096],\n",
              "       [0.07971376],\n",
              "       [0.08161434],\n",
              "       [0.08059686],\n",
              "       [0.08141756],\n",
              "       [0.07713167],\n",
              "       [0.077674  ],\n",
              "       [0.07244262],\n",
              "       [0.07577823],\n",
              "       [0.07470795],\n",
              "       [0.07447758],\n",
              "       [0.07136275],\n",
              "       [0.07441519],\n",
              "       [0.07758761],\n",
              "       [0.08157594],\n",
              "       [0.08635618],\n",
              "       [0.08919264],\n",
              "       [0.08888548],\n",
              "       [0.08863591],\n",
              "       [0.09222108],\n",
              "       [0.09487517],\n",
              "       [0.09813878],\n",
              "       [0.10310619],\n",
              "       [0.09702051],\n",
              "       [0.09783162],\n",
              "       [0.10596185],\n",
              "       [0.10822239],\n",
              "       [0.10566909],\n",
              "       [0.10377811],\n",
              "       [0.1030102 ],\n",
              "       [0.10418126],\n",
              "       [0.10617783],\n",
              "       [0.10915828],\n",
              "       [0.10956143],\n",
              "       [0.10670097],\n",
              "       [0.09944423],\n",
              "       [0.10370132],\n",
              "       [0.09866672],\n",
              "       [0.09907947],\n",
              "       [0.09476478],\n",
              "       [0.08251183],\n",
              "       [0.07374807],\n",
              "       [0.07585502],\n",
              "       [0.07721326],\n",
              "       [0.08257422],\n",
              "       [0.08367809],\n",
              "       [0.08074564],\n",
              "       [0.08284299],\n",
              "       [0.07890266],\n",
              "       [0.08306377],\n",
              "       [0.08163353],\n",
              "       [0.08387007],\n",
              "       [0.08314056],\n",
              "       [0.08991735],\n",
              "       [0.08851592],\n",
              "       [0.09055568],\n",
              "       [0.08604901],\n",
              "       [0.08634178],\n",
              "       [0.08077444],\n",
              "       [0.07890266],\n",
              "       [0.0819359 ],\n",
              "       [0.09211069],\n",
              "       [0.09682374],\n",
              "       [0.09598863],\n",
              "       [0.10081206],\n",
              "       [0.10000096],\n",
              "       [0.09609902],\n",
              "       [0.09721009],\n",
              "       [0.10013054],\n",
              "       [0.09942503],\n",
              "       [0.0997034 ],\n",
              "       [0.09442882],\n",
              "       [0.09228827],\n",
              "       [0.08768082],\n",
              "       [0.08935582],\n",
              "       [0.09483677],\n",
              "       [0.09491356],\n",
              "       [0.09257144],\n",
              "       [0.09142438],\n",
              "       [0.09224028],\n",
              "       [0.09503355],\n",
              "       [0.09633899],\n",
              "       [0.09609902],\n",
              "       [0.09331055],\n",
              "       [0.09088204],\n",
              "       [0.09380009],\n",
              "       [0.0903397 ],\n",
              "       [0.10007775],\n",
              "       [0.0996266 ],\n",
              "       [0.10129681],\n",
              "       [0.10677296],\n",
              "       [0.10781443],\n",
              "       [0.11030534],\n",
              "       [0.1055539 ],\n",
              "       [0.10498277],\n",
              "       [0.10141679],\n",
              "       [0.09403047],\n",
              "       [0.09110281],\n",
              "       [0.0912276 ],\n",
              "       [0.08917344],\n",
              "       [0.08851592],\n",
              "       [0.08923583],\n",
              "       [0.08944221],\n",
              "       [0.09261463],\n",
              "       [0.09591184],\n",
              "       [0.09606543],\n",
              "       [0.09680934],\n",
              "       [0.09011893],\n",
              "       [0.09619021],\n",
              "       [0.09571507],\n",
              "       [0.09623341],\n",
              "       [0.09618061],\n",
              "       [0.09379529],\n",
              "       [0.096267  ],\n",
              "       [0.09813878],\n",
              "       [0.09437603],\n",
              "       [0.09115561],\n",
              "       [0.08727767],\n",
              "       [0.08743125],\n",
              "       [0.0819119 ],\n",
              "       [0.08207028],\n",
              "       [0.07952658],\n",
              "       [0.07914743],\n",
              "       [0.08464278],\n",
              "       [0.07962737],\n",
              "       [0.06915501],\n",
              "       [0.07243302],\n",
              "       [0.07084441],\n",
              "       [0.07241383],\n",
              "       [0.07161712],\n",
              "       [0.0709452 ],\n",
              "       [0.0709452 ],\n",
              "       [0.07690129],\n",
              "       [0.07368568],\n",
              "       [0.07493353],\n",
              "       [0.07550946],\n",
              "       [0.07673331],\n",
              "       [0.07370487],\n",
              "       [0.07805796],\n",
              "       [0.07555745],\n",
              "       [0.07697329],\n",
              "       [0.07757801],\n",
              "       [0.07793317],\n",
              "       [0.07312894],\n",
              "       [0.07375767],\n",
              "       [0.0726442 ],\n",
              "       [0.07200587],\n",
              "       [0.07128596],\n",
              "       [0.07587422],\n",
              "       [0.07490473],\n",
              "       [0.07677171],\n",
              "       [0.08338533],\n",
              "       [0.08920224],\n",
              "       [0.08824235],\n",
              "       [0.08769522],\n",
              "       [0.0903637 ],\n",
              "       [0.08816556],\n",
              "       [0.0844364 ],\n",
              "       [0.08341892],\n",
              "       [0.08470517],\n",
              "       [0.08160474],\n",
              "       [0.07780839],\n",
              "       [0.07509671],\n",
              "       [0.0768821 ],\n",
              "       [0.07495753],\n",
              "       [0.0793634 ],\n",
              "       [0.07778919],\n",
              "       [0.07652694],\n",
              "       [0.07746763],\n",
              "       [0.0869849 ],\n",
              "       [0.08567946],\n",
              "       [0.08621219],\n",
              "       [0.08772401],\n",
              "       [0.08689371],\n",
              "       [0.08873669],\n",
              "       [0.09214429],\n",
              "       [0.09090124],\n",
              "       [0.09351693],\n",
              "       [0.09425604],\n",
              "       [0.09484637],\n",
              "       [0.09153476],\n",
              "       [0.08757523],\n",
              "       [0.09007574],\n",
              "       [0.09328176],\n",
              "       [0.09150117],\n",
              "       [0.09557588],\n",
              "       [0.09314737],\n",
              "       [0.09050768],\n",
              "       [0.08541069],\n",
              "       [0.08581384],\n",
              "       [0.09110761],\n",
              "       [0.0768197 ],\n",
              "       [0.07451118],\n",
              "       [0.07705968],\n",
              "       [0.08086563],\n",
              "       [0.0802177 ],\n",
              "       [0.08586183],\n",
              "       [0.08654335],\n",
              "       [0.08619779],\n",
              "       [0.08549228],\n",
              "       [0.09166915],\n",
              "       [0.09449121],\n",
              "       [0.09706851],\n",
              "       [0.09398247],\n",
              "       [0.09017652],\n",
              "       [0.08435481],\n",
              "       [0.08636577],\n",
              "       [0.08551627],\n",
              "       [0.08304457],\n",
              "       [0.08501233],\n",
              "       [0.08347652],\n",
              "       [0.08255023],\n",
              "       [0.09135238],\n",
              "       [0.08959099],\n",
              "       [0.08229106],\n",
              "       [0.08179672],\n",
              "       [0.07975696],\n",
              "       [0.0760182 ],\n",
              "       [0.07457357],\n",
              "       [0.07744363],\n",
              "       [0.07387765],\n",
              "       [0.07024928],\n",
              "       [0.07151633],\n",
              "       [0.05951775],\n",
              "       [0.04924697],\n",
              "       [0.05325449],\n",
              "       [0.04670327],\n",
              "       [0.05392642],\n",
              "       [0.06324211],\n",
              "       [0.07225544],\n",
              "       [0.06917421],\n",
              "       [0.06454756],\n",
              "       [0.0717659 ],\n",
              "       [0.06995652],\n",
              "       [0.06666891],\n",
              "       [0.06967335],\n",
              "       [0.06529147],\n",
              "       [0.06360207],\n",
              "       [0.06631855],\n",
              "       [0.06954857],\n",
              "       [0.06482592],\n",
              "       [0.06152872],\n",
              "       [0.06157191],\n",
              "       [0.06024247],\n",
              "       [0.0625414 ],\n",
              "       [0.06666891],\n",
              "       [0.06658252],\n",
              "       [0.06947177],\n",
              "       [0.0700621 ],\n",
              "       [0.06204705],\n",
              "       [0.06667371],\n",
              "       [0.07083961],\n",
              "       [0.07045566],\n",
              "       [0.07279778],\n",
              "       [0.07191948],\n",
              "       [0.07001891],\n",
              "       [0.06565623],\n",
              "       [0.06191747],\n",
              "       [0.06302134],\n",
              "       [0.06209025],\n",
              "       [0.05838509],\n",
              "       [0.06206625],\n",
              "       [0.05751639],\n",
              "       [0.05946496],\n",
              "       [0.05887943],\n",
              "       [0.05935937],\n",
              "       [0.06171589],\n",
              "       [0.06553624],\n",
              "       [0.06218144],\n",
              "       [0.06558423],\n",
              "       [0.06794556],\n",
              "       [0.06525307],\n",
              "       [0.07886906],\n",
              "       [0.07723246],\n",
              "       [0.07798597],\n",
              "       [0.08491635],\n",
              "       [0.09003734],\n",
              "       [0.09100203],\n",
              "       [0.09721249],\n",
              "       [0.09742846],\n",
              "       [0.10350455],\n",
              "       [0.09473118],\n",
              "       [0.09937223],\n",
              "       [0.09231227],\n",
              "       [0.08565066],\n",
              "       [0.08535309],\n",
              "       [0.08966778],\n",
              "       [0.09086764],\n",
              "       [0.09347373],\n",
              "       [0.09012373],\n",
              "       [0.08634178],\n",
              "       [0.07472235],\n",
              "       [0.07390645],\n",
              "       [0.07378166],\n",
              "       [0.07839392],\n",
              "       [0.08029449],\n",
              "       [0.07860989],\n",
              "       [0.07753002],\n",
              "       [0.0785667 ],\n",
              "       [0.0743576 ],\n",
              "       [0.08040008],\n",
              "       [0.08095681],\n",
              "       [0.07921942],\n",
              "       [0.0760278 ],\n",
              "       [0.07104599],\n",
              "       [0.06827672],\n",
              "       [0.07370487],\n",
              "       [0.07270179],\n",
              "       [0.06815673],\n",
              "       [0.06479233],\n",
              "       [0.06861748],\n",
              "       [0.06991332],\n",
              "       [0.09328655],\n",
              "       [0.09262903],\n",
              "       [0.08966298],\n",
              "       [0.10769925],\n",
              "       [0.10326937],\n",
              "       [0.09468319],\n",
              "       [0.09614222],\n",
              "       [0.09658376],\n",
              "       [0.09237466],\n",
              "       [0.08807917],\n",
              "       [0.08652416],\n",
              "       [0.07214986],\n",
              "       [0.07356089],\n",
              "       [0.08002093],\n",
              "       [0.07989614],\n",
              "       [0.07915703],\n",
              "       [0.08046247],\n",
              "       [0.07875867],\n",
              "       [0.0752023 ],\n",
              "       [0.07191469],\n",
              "       [0.07102199],\n",
              "       [0.07030688],\n",
              "       [0.0642068 ],\n",
              "       [0.06026646],\n",
              "       [0.06036725],\n",
              "       [0.05186746],\n",
              "       [0.06255099],\n",
              "       [0.05964254],\n",
              "       [0.06496991],\n",
              "       [0.06445157],\n",
              "       [0.06720644],\n",
              "       [0.06703366],\n",
              "       [0.06229182],\n",
              "       [0.06903983],\n",
              "       [0.06870866],\n",
              "       [0.06907822],\n",
              "       [0.06935659],\n",
              "       [0.06998531],\n",
              "       [0.07410803],\n",
              "       [0.07311934],\n",
              "       [0.05260177],\n",
              "       [0.07464556],\n",
              "       [0.06999971],\n",
              "       [0.06701447],\n",
              "       [0.0607896 ],\n",
              "       [0.05124833],\n",
              "       [0.04578178],\n",
              "       [0.05165628],\n",
              "       [0.04881502],\n",
              "       [0.04658328],\n",
              "       [0.04972691],\n",
              "       [0.05011567],\n",
              "       [0.0582747 ],\n",
              "       [0.05596617],\n",
              "       [0.05218902],\n",
              "       [0.05031244],\n",
              "       [0.05076839],\n",
              "       [0.0666977 ],\n",
              "       [0.06399082],\n",
              "       [0.07664213],\n",
              "       [0.08434041],\n",
              "       [0.08623619],\n",
              "       [0.08386047],\n",
              "       [0.08742165],\n",
              "       [0.09076205],\n",
              "       [0.09178433],\n",
              "       [0.08937982],\n",
              "       [0.08921664],\n",
              "       [0.09262423],\n",
              "       [0.09417925],\n",
              "       [0.0937521 ],\n",
              "       [0.08452279],\n",
              "       [0.08809837],\n",
              "       [0.09062767],\n",
              "       [0.09275862],\n",
              "       [0.09557588],\n",
              "       [0.09517273],\n",
              "       [0.09230267],\n",
              "       [0.0878392 ],\n",
              "       [0.0819071 ],\n",
              "       [0.09158756],\n",
              "       [0.09058927],\n",
              "       [0.09248505],\n",
              "       [0.08926943],\n",
              "       [0.0937377 ],\n",
              "       [0.09758205],\n",
              "       [0.09816278],\n",
              "       [0.09977539],\n",
              "       [0.09733248],\n",
              "       [0.10077847],\n",
              "       [0.10155118],\n",
              "       [0.10147439],\n",
              "       [0.10636501],\n",
              "       [0.10104724],\n",
              "       [0.09274902],\n",
              "       [0.08728247],\n",
              "       [0.0853339 ],\n",
              "       [0.0768917 ],\n",
              "       [0.07899865],\n",
              "       [0.06729763],\n",
              "       [0.08203189],\n",
              "       [0.07725165],\n",
              "       [0.08576585],\n",
              "       [0.08525231],\n",
              "       [0.07436719],\n",
              "       [0.06968295],\n",
              "       [0.07800036],\n",
              "       [0.08628898],\n",
              "       [0.08647616],\n",
              "       [0.08800238],\n",
              "       [0.09109321],\n",
              "       [0.09219228],\n",
              "       [0.08602022],\n",
              "       [0.09083405],\n",
              "       [0.09161155],\n",
              "       [0.09221628],\n",
              "       [0.07059484],\n",
              "       [0.06899183],\n",
              "       [0.06355408],\n",
              "       [0.06543545],\n",
              "       [0.06808954],\n",
              "       [0.06777278],\n",
              "       [0.06829111],\n",
              "       [0.07371927],\n",
              "       [0.07287937],\n",
              "       [0.07537028],\n",
              "       [0.07569664],\n",
              "       [0.07975696],\n",
              "       [0.07777479],\n",
              "       [0.07311454],\n",
              "       [0.07229384],\n",
              "       [0.07567264],\n",
              "       [0.0751783 ],\n",
              "       [0.07343131],\n",
              "       [0.07131956],\n",
              "       [0.07329212],\n",
              "       [0.07221705],\n",
              "       [0.07073882],\n",
              "       [0.06530107],\n",
              "       [0.06697127],\n",
              "       [0.06891984],\n",
              "       [0.06848309],\n",
              "       [0.07658453],\n",
              "       [0.07905144],\n",
              "       [0.06700967],\n",
              "       [0.0624838 ],\n",
              "       [0.0582507 ],\n",
              "       [0.05810672],\n",
              "       [0.0582747 ],\n",
              "       [0.06189827],\n",
              "       [0.06515229],\n",
              "       [0.06152392],\n",
              "       [0.0642116 ],\n",
              "       [0.06469154],\n",
              "       [0.05771797],\n",
              "       [0.0548671 ],\n",
              "       [0.05389762],\n",
              "       [0.05683967],\n",
              "       [0.05704125],\n",
              "       [0.05248659],\n",
              "       [0.05051402],\n",
              "       [0.0540416 ],\n",
              "       [0.05743   ],\n",
              "       [0.05924898],\n",
              "       [0.05984411],\n",
              "       [0.06431718],\n",
              "       [0.06273337],\n",
              "       [0.06557944],\n",
              "       [0.0540464 ],\n",
              "       [0.05749239],\n",
              "       [0.05664769],\n",
              "       [0.05622054],\n",
              "       [0.05802033],\n",
              "       [0.05435356],\n",
              "       [0.05400801],\n",
              "       [0.05337448],\n",
              "       [0.05672448],\n",
              "       [0.0557022 ],\n",
              "       [0.05667649],\n",
              "       [0.05163229],\n",
              "       [0.05218422],\n",
              "       [0.04966932],\n",
              "       [0.04437555],\n",
              "       [0.03838106],\n",
              "       [0.0414191 ],\n",
              "       [0.04008485],\n",
              "       [0.03783872],\n",
              "       [0.04268135],\n",
              "       [0.04792713],\n",
              "       [0.04807591],\n",
              "       [0.04410198],\n",
              "       [0.0430365 ],\n",
              "       [0.04166387],\n",
              "       [0.04048321],\n",
              "       [0.03447912],\n",
              "       [0.03702282]])"
            ]
          },
          "metadata": {
            "tags": []
          },
          "execution_count": 323
        }
      ]
    },
    {
      "cell_type": "code",
      "metadata": {
        "id": "AQ6iCL4y0-bi"
      },
      "source": [
        "import numpy\r\n",
        "# convert an array of values into a dataset matrix\r\n",
        "def create_dataset(dataset, time_step=1):\r\n",
        "\tdataX, dataY = [], []\r\n",
        "\tfor i in range(len(dataset)-time_step-1):\r\n",
        "\t\ta = dataset[i:(i+time_step), 0]   ###i=0, 0,1,2,3-----99   100 \r\n",
        "\t\tdataX.append(a)\r\n",
        "\t\tdataY.append(dataset[i + time_step, 0])\r\n",
        "\treturn numpy.array(dataX), numpy.array(dataY)"
      ],
      "execution_count": 324,
      "outputs": []
    },
    {
      "cell_type": "code",
      "metadata": {
        "id": "0p2pmgpO1bA5"
      },
      "source": [
        "# reshape into X=t,t+1,t+2,t+3 and Y=t+4\r\n",
        "time_step = 100\r\n",
        "X_train, y_train = create_dataset(train_data, time_step)\r\n",
        "X_test, ytest = create_dataset(test_data, time_step)"
      ],
      "execution_count": 325,
      "outputs": []
    },
    {
      "cell_type": "code",
      "metadata": {
        "colab": {
          "base_uri": "https://localhost:8080/"
        },
        "id": "VT_Xery21gkP",
        "outputId": "cf8b2e9c-3751-4eca-aa69-d00ba9095a2d"
      },
      "source": [
        "print(X_train.shape), print(y_train.shape)"
      ],
      "execution_count": 326,
      "outputs": [
        {
          "output_type": "stream",
          "text": [
            "(716, 100)\n",
            "(716,)\n"
          ],
          "name": "stdout"
        },
        {
          "output_type": "execute_result",
          "data": {
            "text/plain": [
              "(None, None)"
            ]
          },
          "metadata": {
            "tags": []
          },
          "execution_count": 326
        }
      ]
    },
    {
      "cell_type": "code",
      "metadata": {
        "colab": {
          "base_uri": "https://localhost:8080/"
        },
        "id": "KHvVI-lH1gnH",
        "outputId": "912d6c08-54d1-4759-8839-1f52fe13c848"
      },
      "source": [
        "print(X_test.shape), print(ytest.shape)"
      ],
      "execution_count": 327,
      "outputs": [
        {
          "output_type": "stream",
          "text": [
            "(339, 100)\n",
            "(339,)\n"
          ],
          "name": "stdout"
        },
        {
          "output_type": "execute_result",
          "data": {
            "text/plain": [
              "(None, None)"
            ]
          },
          "metadata": {
            "tags": []
          },
          "execution_count": 327
        }
      ]
    },
    {
      "cell_type": "code",
      "metadata": {
        "id": "CNRYoHG81gqd"
      },
      "source": [
        "# reshape input to be [samples, time steps, features] which is required for LSTM\r\n",
        "X_train =X_train.reshape(X_train.shape[0],X_train.shape[1] , 1)\r\n",
        "X_test = X_test.reshape(X_test.shape[0],X_test.shape[1] , 1)"
      ],
      "execution_count": 328,
      "outputs": []
    },
    {
      "cell_type": "code",
      "metadata": {
        "id": "XuChT_sr1bJU"
      },
      "source": [
        "### Create the Stacked LSTM model\r\n",
        "from tensorflow.keras.models import Sequential\r\n",
        "from tensorflow.keras.layers import Dense\r\n",
        "from tensorflow.keras.layers import LSTM"
      ],
      "execution_count": 329,
      "outputs": []
    },
    {
      "cell_type": "code",
      "metadata": {
        "id": "6jfMahpX110Q"
      },
      "source": [
        "model=Sequential()\r\n",
        "model.add(LSTM(50,return_sequences=True,input_shape=(100,1)))\r\n",
        "model.add(LSTM(50,return_sequences=True))\r\n",
        "model.add(LSTM(50))\r\n",
        "model.add(Dense(1))\r\n",
        "model.compile(loss='mean_squared_error',optimizer='adam')"
      ],
      "execution_count": 330,
      "outputs": []
    },
    {
      "cell_type": "code",
      "metadata": {
        "colab": {
          "base_uri": "https://localhost:8080/"
        },
        "id": "viv1dIRu12DU",
        "outputId": "3b3dc5a8-0f03-452f-e3ee-390efcace6ec"
      },
      "source": [
        "model.summary()"
      ],
      "execution_count": 331,
      "outputs": [
        {
          "output_type": "stream",
          "text": [
            "Model: \"sequential_8\"\n",
            "_________________________________________________________________\n",
            "Layer (type)                 Output Shape              Param #   \n",
            "=================================================================\n",
            "lstm_24 (LSTM)               (None, 100, 50)           10400     \n",
            "_________________________________________________________________\n",
            "lstm_25 (LSTM)               (None, 100, 50)           20200     \n",
            "_________________________________________________________________\n",
            "lstm_26 (LSTM)               (None, 50)                20200     \n",
            "_________________________________________________________________\n",
            "dense_8 (Dense)              (None, 1)                 51        \n",
            "=================================================================\n",
            "Total params: 50,851\n",
            "Trainable params: 50,851\n",
            "Non-trainable params: 0\n",
            "_________________________________________________________________\n"
          ],
          "name": "stdout"
        }
      ]
    },
    {
      "cell_type": "code",
      "metadata": {
        "colab": {
          "base_uri": "https://localhost:8080/"
        },
        "id": "S--oAjXo12Ya",
        "outputId": "4a178c14-6932-4b77-f25e-7be65cf6b00b"
      },
      "source": [
        "model.summary()"
      ],
      "execution_count": 332,
      "outputs": [
        {
          "output_type": "stream",
          "text": [
            "Model: \"sequential_8\"\n",
            "_________________________________________________________________\n",
            "Layer (type)                 Output Shape              Param #   \n",
            "=================================================================\n",
            "lstm_24 (LSTM)               (None, 100, 50)           10400     \n",
            "_________________________________________________________________\n",
            "lstm_25 (LSTM)               (None, 100, 50)           20200     \n",
            "_________________________________________________________________\n",
            "lstm_26 (LSTM)               (None, 50)                20200     \n",
            "_________________________________________________________________\n",
            "dense_8 (Dense)              (None, 1)                 51        \n",
            "=================================================================\n",
            "Total params: 50,851\n",
            "Trainable params: 50,851\n",
            "Non-trainable params: 0\n",
            "_________________________________________________________________\n"
          ],
          "name": "stdout"
        }
      ]
    },
    {
      "cell_type": "code",
      "metadata": {
        "colab": {
          "base_uri": "https://localhost:8080/"
        },
        "id": "2i9vMXzV2OaV",
        "outputId": "7fbbd872-2f3c-4587-aaf0-592c8f3d8c4a"
      },
      "source": [
        "model.fit(X_train,y_train,validation_data=(X_test,ytest),epochs=100,batch_size=64,verbose=1)"
      ],
      "execution_count": 333,
      "outputs": [
        {
          "output_type": "stream",
          "text": [
            "Epoch 1/100\n",
            "12/12 [==============================] - 8s 258ms/step - loss: 0.0024 - val_loss: 0.0571\n",
            "Epoch 2/100\n",
            "12/12 [==============================] - 2s 177ms/step - loss: 5.1668e-04 - val_loss: 0.0411\n",
            "Epoch 3/100\n",
            "12/12 [==============================] - 2s 183ms/step - loss: 3.1553e-04 - val_loss: 0.0235\n",
            "Epoch 4/100\n",
            "12/12 [==============================] - 2s 179ms/step - loss: 1.9165e-04 - val_loss: 0.0172\n",
            "Epoch 5/100\n",
            "12/12 [==============================] - 2s 182ms/step - loss: 1.3105e-04 - val_loss: 0.0172\n",
            "Epoch 6/100\n",
            "12/12 [==============================] - 2s 175ms/step - loss: 1.0590e-04 - val_loss: 0.0170\n",
            "Epoch 7/100\n",
            "12/12 [==============================] - 2s 178ms/step - loss: 1.0637e-04 - val_loss: 0.0164\n",
            "Epoch 8/100\n",
            "12/12 [==============================] - 2s 177ms/step - loss: 1.1906e-04 - val_loss: 0.0163\n",
            "Epoch 9/100\n",
            "12/12 [==============================] - 2s 188ms/step - loss: 1.0579e-04 - val_loss: 0.0161\n",
            "Epoch 10/100\n",
            "12/12 [==============================] - 2s 186ms/step - loss: 1.0484e-04 - val_loss: 0.0154\n",
            "Epoch 11/100\n",
            "12/12 [==============================] - 2s 185ms/step - loss: 1.0480e-04 - val_loss: 0.0151\n",
            "Epoch 12/100\n",
            "12/12 [==============================] - 2s 191ms/step - loss: 1.0640e-04 - val_loss: 0.0154\n",
            "Epoch 13/100\n",
            "12/12 [==============================] - 2s 186ms/step - loss: 1.0231e-04 - val_loss: 0.0142\n",
            "Epoch 14/100\n",
            "12/12 [==============================] - 2s 185ms/step - loss: 1.1500e-04 - val_loss: 0.0150\n",
            "Epoch 15/100\n",
            "12/12 [==============================] - 2s 182ms/step - loss: 9.8051e-05 - val_loss: 0.0140\n",
            "Epoch 16/100\n",
            "12/12 [==============================] - 2s 193ms/step - loss: 9.6681e-05 - val_loss: 0.0138\n",
            "Epoch 17/100\n",
            "12/12 [==============================] - 2s 195ms/step - loss: 9.0145e-05 - val_loss: 0.0138\n",
            "Epoch 18/100\n",
            "12/12 [==============================] - 2s 190ms/step - loss: 9.0302e-05 - val_loss: 0.0137\n",
            "Epoch 19/100\n",
            "12/12 [==============================] - 2s 186ms/step - loss: 9.1148e-05 - val_loss: 0.0130\n",
            "Epoch 20/100\n",
            "12/12 [==============================] - 2s 182ms/step - loss: 9.0602e-05 - val_loss: 0.0129\n",
            "Epoch 21/100\n",
            "12/12 [==============================] - 2s 184ms/step - loss: 8.8262e-05 - val_loss: 0.0129\n",
            "Epoch 22/100\n",
            "12/12 [==============================] - 2s 184ms/step - loss: 9.7421e-05 - val_loss: 0.0127\n",
            "Epoch 23/100\n",
            "12/12 [==============================] - 2s 184ms/step - loss: 9.6665e-05 - val_loss: 0.0126\n",
            "Epoch 24/100\n",
            "12/12 [==============================] - 2s 186ms/step - loss: 1.2035e-04 - val_loss: 0.0128\n",
            "Epoch 25/100\n",
            "12/12 [==============================] - 2s 186ms/step - loss: 9.5702e-05 - val_loss: 0.0123\n",
            "Epoch 26/100\n",
            "12/12 [==============================] - 2s 186ms/step - loss: 7.3988e-05 - val_loss: 0.0120\n",
            "Epoch 27/100\n",
            "12/12 [==============================] - 2s 186ms/step - loss: 8.3913e-05 - val_loss: 0.0119\n",
            "Epoch 28/100\n",
            "12/12 [==============================] - 2s 184ms/step - loss: 8.1682e-05 - val_loss: 0.0119\n",
            "Epoch 29/100\n",
            "12/12 [==============================] - 2s 182ms/step - loss: 7.5096e-05 - val_loss: 0.0122\n",
            "Epoch 30/100\n",
            "12/12 [==============================] - 2s 185ms/step - loss: 8.4340e-05 - val_loss: 0.0117\n",
            "Epoch 31/100\n",
            "12/12 [==============================] - 2s 184ms/step - loss: 6.7481e-05 - val_loss: 0.0116\n",
            "Epoch 32/100\n",
            "12/12 [==============================] - 2s 184ms/step - loss: 8.1569e-05 - val_loss: 0.0111\n",
            "Epoch 33/100\n",
            "12/12 [==============================] - 2s 181ms/step - loss: 7.5577e-05 - val_loss: 0.0109\n",
            "Epoch 34/100\n",
            "12/12 [==============================] - 2s 184ms/step - loss: 8.0873e-05 - val_loss: 0.0113\n",
            "Epoch 35/100\n",
            "12/12 [==============================] - 2s 187ms/step - loss: 9.0019e-05 - val_loss: 0.0112\n",
            "Epoch 36/100\n",
            "12/12 [==============================] - 2s 188ms/step - loss: 7.8977e-05 - val_loss: 0.0115\n",
            "Epoch 37/100\n",
            "12/12 [==============================] - 2s 189ms/step - loss: 7.1841e-05 - val_loss: 0.0108\n",
            "Epoch 38/100\n",
            "12/12 [==============================] - 2s 188ms/step - loss: 7.7819e-05 - val_loss: 0.0110\n",
            "Epoch 39/100\n",
            "12/12 [==============================] - 2s 192ms/step - loss: 7.5644e-05 - val_loss: 0.0111\n",
            "Epoch 40/100\n",
            "12/12 [==============================] - 2s 189ms/step - loss: 6.6958e-05 - val_loss: 0.0114\n",
            "Epoch 41/100\n",
            "12/12 [==============================] - 2s 189ms/step - loss: 6.5696e-05 - val_loss: 0.0108\n",
            "Epoch 42/100\n",
            "12/12 [==============================] - 2s 185ms/step - loss: 6.5566e-05 - val_loss: 0.0104\n",
            "Epoch 43/100\n",
            "12/12 [==============================] - 2s 188ms/step - loss: 5.9337e-05 - val_loss: 0.0112\n",
            "Epoch 44/100\n",
            "12/12 [==============================] - 2s 193ms/step - loss: 5.5571e-05 - val_loss: 0.0110\n",
            "Epoch 45/100\n",
            "12/12 [==============================] - 2s 190ms/step - loss: 5.5149e-05 - val_loss: 0.0103\n",
            "Epoch 46/100\n",
            "12/12 [==============================] - 2s 189ms/step - loss: 6.3399e-05 - val_loss: 0.0113\n",
            "Epoch 47/100\n",
            "12/12 [==============================] - 2s 189ms/step - loss: 5.1436e-05 - val_loss: 0.0111\n",
            "Epoch 48/100\n",
            "12/12 [==============================] - 2s 193ms/step - loss: 5.3559e-05 - val_loss: 0.0110\n",
            "Epoch 49/100\n",
            "12/12 [==============================] - 2s 189ms/step - loss: 5.6235e-05 - val_loss: 0.0109\n",
            "Epoch 50/100\n",
            "12/12 [==============================] - 2s 193ms/step - loss: 5.5660e-05 - val_loss: 0.0113\n",
            "Epoch 51/100\n",
            "12/12 [==============================] - 2s 190ms/step - loss: 5.6025e-05 - val_loss: 0.0119\n",
            "Epoch 52/100\n",
            "12/12 [==============================] - 2s 192ms/step - loss: 5.4131e-05 - val_loss: 0.0097\n",
            "Epoch 53/100\n",
            "12/12 [==============================] - 2s 188ms/step - loss: 4.9518e-05 - val_loss: 0.0116\n",
            "Epoch 54/100\n",
            "12/12 [==============================] - 2s 191ms/step - loss: 5.7290e-05 - val_loss: 0.0095\n",
            "Epoch 55/100\n",
            "12/12 [==============================] - 2s 192ms/step - loss: 5.1231e-05 - val_loss: 0.0118\n",
            "Epoch 56/100\n",
            "12/12 [==============================] - 2s 186ms/step - loss: 5.1271e-05 - val_loss: 0.0102\n",
            "Epoch 57/100\n",
            "12/12 [==============================] - 2s 188ms/step - loss: 4.8117e-05 - val_loss: 0.0122\n",
            "Epoch 58/100\n",
            "12/12 [==============================] - 2s 188ms/step - loss: 7.1014e-05 - val_loss: 0.0103\n",
            "Epoch 59/100\n",
            "12/12 [==============================] - 2s 194ms/step - loss: 5.4570e-05 - val_loss: 0.0118\n",
            "Epoch 60/100\n",
            "12/12 [==============================] - 2s 190ms/step - loss: 5.4174e-05 - val_loss: 0.0109\n",
            "Epoch 61/100\n",
            "12/12 [==============================] - 2s 188ms/step - loss: 4.8106e-05 - val_loss: 0.0117\n",
            "Epoch 62/100\n",
            "12/12 [==============================] - 2s 194ms/step - loss: 5.0112e-05 - val_loss: 0.0107\n",
            "Epoch 63/100\n",
            "12/12 [==============================] - 2s 192ms/step - loss: 4.4665e-05 - val_loss: 0.0110\n",
            "Epoch 64/100\n",
            "12/12 [==============================] - 2s 190ms/step - loss: 4.3603e-05 - val_loss: 0.0111\n",
            "Epoch 65/100\n",
            "12/12 [==============================] - 2s 193ms/step - loss: 5.2341e-05 - val_loss: 0.0100\n",
            "Epoch 66/100\n",
            "12/12 [==============================] - 2s 192ms/step - loss: 7.0824e-05 - val_loss: 0.0111\n",
            "Epoch 67/100\n",
            "12/12 [==============================] - 2s 190ms/step - loss: 4.1879e-05 - val_loss: 0.0116\n",
            "Epoch 68/100\n",
            "12/12 [==============================] - 2s 192ms/step - loss: 3.9527e-05 - val_loss: 0.0096\n",
            "Epoch 69/100\n",
            "12/12 [==============================] - 2s 184ms/step - loss: 5.0195e-05 - val_loss: 0.0127\n",
            "Epoch 70/100\n",
            "12/12 [==============================] - 2s 188ms/step - loss: 4.0596e-05 - val_loss: 0.0114\n",
            "Epoch 71/100\n",
            "12/12 [==============================] - 2s 188ms/step - loss: 4.3017e-05 - val_loss: 0.0109\n",
            "Epoch 72/100\n",
            "12/12 [==============================] - 2s 186ms/step - loss: 4.0605e-05 - val_loss: 0.0128\n",
            "Epoch 73/100\n",
            "12/12 [==============================] - 2s 189ms/step - loss: 4.3798e-05 - val_loss: 0.0096\n",
            "Epoch 74/100\n",
            "12/12 [==============================] - 2s 187ms/step - loss: 4.9295e-05 - val_loss: 0.0128\n",
            "Epoch 75/100\n",
            "12/12 [==============================] - 2s 186ms/step - loss: 4.3443e-05 - val_loss: 0.0109\n",
            "Epoch 76/100\n",
            "12/12 [==============================] - 2s 186ms/step - loss: 3.9903e-05 - val_loss: 0.0114\n",
            "Epoch 77/100\n",
            "12/12 [==============================] - 2s 187ms/step - loss: 4.3011e-05 - val_loss: 0.0107\n",
            "Epoch 78/100\n",
            "12/12 [==============================] - 2s 188ms/step - loss: 3.6901e-05 - val_loss: 0.0109\n",
            "Epoch 79/100\n",
            "12/12 [==============================] - 2s 185ms/step - loss: 3.9770e-05 - val_loss: 0.0115\n",
            "Epoch 80/100\n",
            "12/12 [==============================] - 2s 189ms/step - loss: 3.5344e-05 - val_loss: 0.0110\n",
            "Epoch 81/100\n",
            "12/12 [==============================] - 2s 187ms/step - loss: 3.8996e-05 - val_loss: 0.0104\n",
            "Epoch 82/100\n",
            "12/12 [==============================] - 2s 187ms/step - loss: 3.7153e-05 - val_loss: 0.0113\n",
            "Epoch 83/100\n",
            "12/12 [==============================] - 2s 190ms/step - loss: 3.7832e-05 - val_loss: 0.0116\n",
            "Epoch 84/100\n",
            "12/12 [==============================] - 2s 187ms/step - loss: 4.5858e-05 - val_loss: 0.0112\n",
            "Epoch 85/100\n",
            "12/12 [==============================] - 2s 186ms/step - loss: 3.8681e-05 - val_loss: 0.0119\n",
            "Epoch 86/100\n",
            "12/12 [==============================] - 2s 184ms/step - loss: 4.0516e-05 - val_loss: 0.0111\n",
            "Epoch 87/100\n",
            "12/12 [==============================] - 2s 185ms/step - loss: 3.7476e-05 - val_loss: 0.0112\n",
            "Epoch 88/100\n",
            "12/12 [==============================] - 2s 187ms/step - loss: 3.8054e-05 - val_loss: 0.0110\n",
            "Epoch 89/100\n",
            "12/12 [==============================] - 2s 188ms/step - loss: 3.6105e-05 - val_loss: 0.0112\n",
            "Epoch 90/100\n",
            "12/12 [==============================] - 2s 185ms/step - loss: 3.4185e-05 - val_loss: 0.0112\n",
            "Epoch 91/100\n",
            "12/12 [==============================] - 2s 183ms/step - loss: 3.4103e-05 - val_loss: 0.0130\n",
            "Epoch 92/100\n",
            "12/12 [==============================] - 2s 193ms/step - loss: 3.5095e-05 - val_loss: 0.0107\n",
            "Epoch 93/100\n",
            "12/12 [==============================] - 2s 204ms/step - loss: 3.8279e-05 - val_loss: 0.0116\n",
            "Epoch 94/100\n",
            "12/12 [==============================] - 2s 200ms/step - loss: 3.3675e-05 - val_loss: 0.0114\n",
            "Epoch 95/100\n",
            "12/12 [==============================] - 2s 182ms/step - loss: 3.3591e-05 - val_loss: 0.0120\n",
            "Epoch 96/100\n",
            "12/12 [==============================] - 2s 182ms/step - loss: 3.4208e-05 - val_loss: 0.0117\n",
            "Epoch 97/100\n",
            "12/12 [==============================] - 2s 185ms/step - loss: 3.6966e-05 - val_loss: 0.0109\n",
            "Epoch 98/100\n",
            "12/12 [==============================] - 2s 185ms/step - loss: 3.4659e-05 - val_loss: 0.0119\n",
            "Epoch 99/100\n",
            "12/12 [==============================] - 2s 189ms/step - loss: 3.1097e-05 - val_loss: 0.0122\n",
            "Epoch 100/100\n",
            "12/12 [==============================] - 2s 184ms/step - loss: 3.4335e-05 - val_loss: 0.0111\n"
          ],
          "name": "stdout"
        },
        {
          "output_type": "execute_result",
          "data": {
            "text/plain": [
              "<tensorflow.python.keras.callbacks.History at 0x7fa857e17518>"
            ]
          },
          "metadata": {
            "tags": []
          },
          "execution_count": 333
        }
      ]
    },
    {
      "cell_type": "code",
      "metadata": {
        "id": "cwsnHI_z2Oj7"
      },
      "source": [
        "import tensorflow as tf"
      ],
      "execution_count": 334,
      "outputs": []
    },
    {
      "cell_type": "code",
      "metadata": {
        "colab": {
          "base_uri": "https://localhost:8080/",
          "height": 35
        },
        "id": "7pYicY0O3On4",
        "outputId": "04fe8c4c-835b-4f47-ad96-6a34f9e22b82"
      },
      "source": [
        "tf.__version__"
      ],
      "execution_count": 335,
      "outputs": [
        {
          "output_type": "execute_result",
          "data": {
            "application/vnd.google.colaboratory.intrinsic+json": {
              "type": "string"
            },
            "text/plain": [
              "'2.4.1'"
            ]
          },
          "metadata": {
            "tags": []
          },
          "execution_count": 335
        }
      ]
    },
    {
      "cell_type": "code",
      "metadata": {
        "id": "HVTJfiBQ3Ozv"
      },
      "source": [
        "### Lets Do the prediction and check performance metrics\r\n",
        "train_predict=model.predict(X_train)\r\n",
        "test_predict=model.predict(X_test)"
      ],
      "execution_count": 336,
      "outputs": []
    },
    {
      "cell_type": "code",
      "metadata": {
        "id": "uQmvOY373VqG"
      },
      "source": [
        "##Transformback to original form\r\n",
        "train_predict=scaler.inverse_transform(train_predict)\r\n",
        "test_predict=scaler.inverse_transform(test_predict)"
      ],
      "execution_count": 337,
      "outputs": []
    },
    {
      "cell_type": "code",
      "metadata": {
        "colab": {
          "base_uri": "https://localhost:8080/"
        },
        "id": "vrs9pGqn3V2p",
        "outputId": "952227f2-e800-48c6-b746-fb2078a502e3"
      },
      "source": [
        "### Calculate RMSE performance metrics\r\n",
        "import math\r\n",
        "from sklearn.metrics import mean_squared_error\r\n",
        "math.sqrt(mean_squared_error(y_train,train_predict))"
      ],
      "execution_count": 338,
      "outputs": [
        {
          "output_type": "execute_result",
          "data": {
            "text/plain": [
              "294.2251465910387"
            ]
          },
          "metadata": {
            "tags": []
          },
          "execution_count": 338
        }
      ]
    },
    {
      "cell_type": "code",
      "metadata": {
        "colab": {
          "base_uri": "https://localhost:8080/"
        },
        "id": "RZCAa6Ox3WIE",
        "outputId": "54653134-7df7-4247-f47d-8e947aaaeba8"
      },
      "source": [
        "### Test Data RMSE\r\n",
        "math.sqrt(mean_squared_error(ytest,test_predict))"
      ],
      "execution_count": 339,
      "outputs": [
        {
          "output_type": "execute_result",
          "data": {
            "text/plain": [
              "643.1543194496264"
            ]
          },
          "metadata": {
            "tags": []
          },
          "execution_count": 339
        }
      ]
    },
    {
      "cell_type": "code",
      "metadata": {
        "colab": {
          "base_uri": "https://localhost:8080/",
          "height": 265
        },
        "id": "1_lGoXbv3zga",
        "outputId": "3235f026-cf71-4844-e363-e68ba8a96ec9"
      },
      "source": [
        "### Plotting \r\n",
        "# shift train predictions for plotting\r\n",
        "look_back=100\r\n",
        "trainPredictPlot = numpy.empty_like(df1)\r\n",
        "trainPredictPlot[:, :] = np.nan\r\n",
        "trainPredictPlot[look_back:len(train_predict)+look_back, :] = train_predict\r\n",
        "# shift test predictions for plotting\r\n",
        "testPredictPlot = numpy.empty_like(df1)\r\n",
        "testPredictPlot[:, :] = numpy.nan\r\n",
        "testPredictPlot[len(train_predict)+(look_back*2)+1:len(df1)-1, :] = test_predict\r\n",
        "# plot baseline and predictions\r\n",
        "plt.plot(scaler.inverse_transform(df1))\r\n",
        "plt.plot(trainPredictPlot)\r\n",
        "plt.plot(testPredictPlot)\r\n",
        "plt.show()"
      ],
      "execution_count": 340,
      "outputs": [
        {
          "output_type": "display_data",
          "data": {
            "image/png": "[encoded data removed]",
            "text/plain": [
              "<Figure size 432x288 with 1 Axes>"
            ]
          },
          "metadata": {
            "tags": [],
            "needs_background": "light"
          }
        }
      ]
    },
    {
      "cell_type": "code",
      "metadata": {
        "colab": {
          "base_uri": "https://localhost:8080/"
        },
        "id": "G9Bkbiqf3zlw",
        "outputId": "1b55b039-35f1-4163-f8f4-312f357d294a"
      },
      "source": [
        "len(test_data)"
      ],
      "execution_count": 341,
      "outputs": [
        {
          "output_type": "execute_result",
          "data": {
            "text/plain": [
              "440"
            ]
          },
          "metadata": {
            "tags": []
          },
          "execution_count": 341
        }
      ]
    },
    {
      "cell_type": "code",
      "metadata": {
        "colab": {
          "base_uri": "https://localhost:8080/"
        },
        "id": "FO14yJlk3zvf",
        "outputId": "8969cb79-bd71-4076-ed3a-96568027dcc8"
      },
      "source": [
        "x_input=test_data[340:].reshape(1,-1)\r\n",
        "x_input.shape"
      ],
      "execution_count": 342,
      "outputs": [
        {
          "output_type": "execute_result",
          "data": {
            "text/plain": [
              "(1, 100)"
            ]
          },
          "metadata": {
            "tags": []
          },
          "execution_count": 342
        }
      ]
    },
    {
      "cell_type": "code",
      "metadata": {
        "id": "7dm7_JPT5wSg"
      },
      "source": [
        "temp_input=list(x_input)\r\n",
        "temp_input=temp_input[0].tolist()"
      ],
      "execution_count": 343,
      "outputs": []
    },
    {
      "cell_type": "code",
      "metadata": {
        "colab": {
          "base_uri": "https://localhost:8080/"
        },
        "id": "W-cHoLN35wYF",
        "outputId": "2ea2535d-8401-420f-ee22-1594fdef8820"
      },
      "source": [
        "temp_input"
      ],
      "execution_count": 344,
      "outputs": [
        {
          "output_type": "execute_result",
          "data": {
            "text/plain": [
              "[0.13773409228347364,\n",
              " 0.14120888086850517,\n",
              " 0.1291335105923459,\n",
              " 0.10807840351702361,\n",
              " 0.11164438130525348,\n",
              " 0.12102727037118804,\n",
              " 0.1276792827729197,\n",
              " 0.12665700381074882,\n",
              " 0.13142763896754625,\n",
              " 0.14061855076358962,\n",
              " 0.12474682997533093,\n",
              " 0.12982942819570165,\n",
              " 0.12421409305138273,\n",
              " 0.12964704978930497,\n",
              " 0.1299446145576364,\n",
              " 0.13382255540943955,\n",
              " 0.13780608375968287,\n",
              " 0.13989383656975016,\n",
              " 0.146925004079517,\n",
              " 0.14096410984939384,\n",
              " 0.13654383321014793,\n",
              " 0.13230113554555142,\n",
              " 0.1280344407222185,\n",
              " 0.12837040094452817,\n",
              " 0.12988222194492174,\n",
              " 0.12740571516332466,\n",
              " 0.12723773505216981,\n",
              " 0.12934948502097354,\n",
              " 0.12039374538054695,\n",
              " 0.12270227205098916,\n",
              " 0.1117643670989355,\n",
              " 0.11774925848779505,\n",
              " 0.12897512934468558,\n",
              " 0.12757369527447954,\n",
              " 0.1357855229940775,\n",
              " 0.13187878555179067,\n",
              " 0.1277080793634034,\n",
              " 0.12247669875886696,\n",
              " 0.12572591405177627,\n",
              " 0.12314861920348633,\n",
              " 0.12158400445387268,\n",
              " 0.12138722775223415,\n",
              " 0.13747492296912048,\n",
              " 0.15908676412712736,\n",
              " 0.1651484464239434,\n",
              " 0.16051219535606986,\n",
              " 0.1759855633093042,\n",
              " 0.1920780579579378,\n",
              " 0.20101459987137527,\n",
              " 0.20665873160617787,\n",
              " 0.19794296355311536,\n",
              " 0.2061787884314497,\n",
              " 0.19852849422628366,\n",
              " 0.21031589859760608,\n",
              " 0.21303237696656718,\n",
              " 0.2335355493909521,\n",
              " 0.23743268796974443,\n",
              " 0.2156432678370881,\n",
              " 0.22648518415419616,\n",
              " 0.21828775472984002,\n",
              " 0.23260925906372687,\n",
              " 0.22945123297401587,\n",
              " 0.22442142850286528,\n",
              " 0.2403219458816076,\n",
              " 0.25908772401347685,\n",
              " 0.23742308910624987,\n",
              " 0.23285403008283823,\n",
              " 0.23556090958830478,\n",
              " 0.24313921231726165,\n",
              " 0.24406070321273965,\n",
              " 0.24516457251461432,\n",
              " 0.25898213651503665,\n",
              " 0.2642087176878258,\n",
              " 0.2757753481987733,\n",
              " 0.2783382447518214,\n",
              " 0.2883546588083971,\n",
              " 0.31718004588256754,\n",
              " 0.34788681020167217,\n",
              " 0.3148523214851362,\n",
              " 0.3332101479184865,\n",
              " 0.3355954654968852,\n",
              " 0.33107920022269366,\n",
              " 0.322037070810816,\n",
              " 0.33086322579406596,\n",
              " 0.3336948905249619,\n",
              " 0.3310744007909464,\n",
              " 0.33186630702924774,\n",
              " 0.3482611658779601,\n",
              " 0.34936023574808744,\n",
              " 0.3402749114504843,\n",
              " 0.3264861440405456,\n",
              " 0.3063765250194377,\n",
              " 0.32858829514585475,\n",
              " 0.3444168210483879,\n",
              " 0.3357298495858091,\n",
              " 0.33347411666458693,\n",
              " 0.33454918937597794,\n",
              " 0.3399197535011855,\n",
              " 0.3332197467819811,\n",
              " 0.31179508346211815]"
            ]
          },
          "metadata": {
            "tags": []
          },
          "execution_count": 344
        }
      ]
    },
    {
      "cell_type": "code",
      "metadata": {
        "colab": {
          "base_uri": "https://localhost:8080/"
        },
        "id": "XbHd2Xdl5wa8",
        "outputId": "2831934b-ab8f-434e-9783-6d0b64d9c1d3"
      },
      "source": [
        "from numpy import array\r\n",
        "\r\n",
        "lst_output=[]\r\n",
        "n_steps=100\r\n",
        "i=0\r\n",
        "while(i<30):\r\n",
        "    \r\n",
        "    if(len(temp_input)>100):\r\n",
        "        #print(temp_input)\r\n",
        "        x_input=np.array(temp_input[1:])\r\n",
        "        print(\"{} day input {}\".format(i,x_input))\r\n",
        "        x_input=x_input.reshape(1,-1)\r\n",
        "        x_input = x_input.reshape((1, n_steps, 1))\r\n",
        "        #print(x_input)\r\n",
        "        yhat = model.predict(x_input, verbose=0)\r\n",
        "        print(\"{} day output {}\".format(i,yhat))\r\n",
        "        temp_input.extend(yhat[0].tolist())\r\n",
        "        temp_input=temp_input[1:]\r\n",
        "        #print(temp_input)\r\n",
        "        lst_output.extend(yhat.tolist())\r\n",
        "        i=i+1\r\n",
        "    else:\r\n",
        "        x_input = x_input.reshape((1, n_steps,1))\r\n",
        "        yhat = model.predict(x_input, verbose=0)\r\n",
        "        print(yhat[0])\r\n",
        "        temp_input.extend(yhat[0].tolist())\r\n",
        "        print(len(temp_input))\r\n",
        "        lst_output.extend(yhat.tolist())\r\n",
        "        i=i+1\r\n",
        "    \r\n",
        "\r\n",
        "print(lst_output)"
      ],
      "execution_count": 345,
      "outputs": [
        {
          "output_type": "stream",
          "text": [
            "[0.26692694]\n",
            "101\n",
            "1 day input [0.14120888 0.12913351 0.1080784  0.11164438 0.12102727 0.12767928\n",
            " 0.126657   0.13142764 0.14061855 0.12474683 0.12982943 0.12421409\n",
            " 0.12964705 0.12994461 0.13382256 0.13780608 0.13989384 0.146925\n",
            " 0.14096411 0.13654383 0.13230114 0.12803444 0.1283704  0.12988222\n",
            " 0.12740572 0.12723774 0.12934949 0.12039375 0.12270227 0.11176437\n",
            " 0.11774926 0.12897513 0.1275737  0.13578552 0.13187879 0.12770808\n",
            " 0.1224767  0.12572591 0.12314862 0.121584   0.12138723 0.13747492\n",
            " 0.15908676 0.16514845 0.1605122  0.17598556 0.19207806 0.2010146\n",
            " 0.20665873 0.19794296 0.20617879 0.19852849 0.2103159  0.21303238\n",
            " 0.23353555 0.23743269 0.21564327 0.22648518 0.21828775 0.23260926\n",
            " 0.22945123 0.22442143 0.24032195 0.25908772 0.23742309 0.23285403\n",
            " 0.23556091 0.24313921 0.2440607  0.24516457 0.25898214 0.26420872\n",
            " 0.27577535 0.27833824 0.28835466 0.31718005 0.34788681 0.31485232\n",
            " 0.33321015 0.33559547 0.3310792  0.32203707 0.33086323 0.33369489\n",
            " 0.3310744  0.33186631 0.34826117 0.34936024 0.34027491 0.32648614\n",
            " 0.30637653 0.3285883  0.34441682 0.33572985 0.33347412 0.33454919\n",
            " 0.33991975 0.33321975 0.31179508 0.26692694]\n",
            "1 day output [[0.24941415]]\n",
            "2 day input [0.12913351 0.1080784  0.11164438 0.12102727 0.12767928 0.126657\n",
            " 0.13142764 0.14061855 0.12474683 0.12982943 0.12421409 0.12964705\n",
            " 0.12994461 0.13382256 0.13780608 0.13989384 0.146925   0.14096411\n",
            " 0.13654383 0.13230114 0.12803444 0.1283704  0.12988222 0.12740572\n",
            " 0.12723774 0.12934949 0.12039375 0.12270227 0.11176437 0.11774926\n",
            " 0.12897513 0.1275737  0.13578552 0.13187879 0.12770808 0.1224767\n",
            " 0.12572591 0.12314862 0.121584   0.12138723 0.13747492 0.15908676\n",
            " 0.16514845 0.1605122  0.17598556 0.19207806 0.2010146  0.20665873\n",
            " 0.19794296 0.20617879 0.19852849 0.2103159  0.21303238 0.23353555\n",
            " 0.23743269 0.21564327 0.22648518 0.21828775 0.23260926 0.22945123\n",
            " 0.22442143 0.24032195 0.25908772 0.23742309 0.23285403 0.23556091\n",
            " 0.24313921 0.2440607  0.24516457 0.25898214 0.26420872 0.27577535\n",
            " 0.27833824 0.28835466 0.31718005 0.34788681 0.31485232 0.33321015\n",
            " 0.33559547 0.3310792  0.32203707 0.33086323 0.33369489 0.3310744\n",
            " 0.33186631 0.34826117 0.34936024 0.34027491 0.32648614 0.30637653\n",
            " 0.3285883  0.34441682 0.33572985 0.33347412 0.33454919 0.33991975\n",
            " 0.33321975 0.31179508 0.26692694 0.24941415]\n",
            "2 day output [[0.2256005]]\n",
            "3 day input [0.1080784  0.11164438 0.12102727 0.12767928 0.126657   0.13142764\n",
            " 0.14061855 0.12474683 0.12982943 0.12421409 0.12964705 0.12994461\n",
            " 0.13382256 0.13780608 0.13989384 0.146925   0.14096411 0.13654383\n",
            " 0.13230114 0.12803444 0.1283704  0.12988222 0.12740572 0.12723774\n",
            " 0.12934949 0.12039375 0.12270227 0.11176437 0.11774926 0.12897513\n",
            " 0.1275737  0.13578552 0.13187879 0.12770808 0.1224767  0.12572591\n",
            " 0.12314862 0.121584   0.12138723 0.13747492 0.15908676 0.16514845\n",
            " 0.1605122  0.17598556 0.19207806 0.2010146  0.20665873 0.19794296\n",
            " 0.20617879 0.19852849 0.2103159  0.21303238 0.23353555 0.23743269\n",
            " 0.21564327 0.22648518 0.21828775 0.23260926 0.22945123 0.22442143\n",
            " 0.24032195 0.25908772 0.23742309 0.23285403 0.23556091 0.24313921\n",
            " 0.2440607  0.24516457 0.25898214 0.26420872 0.27577535 0.27833824\n",
            " 0.28835466 0.31718005 0.34788681 0.31485232 0.33321015 0.33559547\n",
            " 0.3310792  0.32203707 0.33086323 0.33369489 0.3310744  0.33186631\n",
            " 0.34826117 0.34936024 0.34027491 0.32648614 0.30637653 0.3285883\n",
            " 0.34441682 0.33572985 0.33347412 0.33454919 0.33991975 0.33321975\n",
            " 0.31179508 0.26692694 0.24941415 0.2256005 ]\n",
            "3 day output [[0.20057693]]\n",
            "4 day input [0.11164438 0.12102727 0.12767928 0.126657   0.13142764 0.14061855\n",
            " 0.12474683 0.12982943 0.12421409 0.12964705 0.12994461 0.13382256\n",
            " 0.13780608 0.13989384 0.146925   0.14096411 0.13654383 0.13230114\n",
            " 0.12803444 0.1283704  0.12988222 0.12740572 0.12723774 0.12934949\n",
            " 0.12039375 0.12270227 0.11176437 0.11774926 0.12897513 0.1275737\n",
            " 0.13578552 0.13187879 0.12770808 0.1224767  0.12572591 0.12314862\n",
            " 0.121584   0.12138723 0.13747492 0.15908676 0.16514845 0.1605122\n",
            " 0.17598556 0.19207806 0.2010146  0.20665873 0.19794296 0.20617879\n",
            " 0.19852849 0.2103159  0.21303238 0.23353555 0.23743269 0.21564327\n",
            " 0.22648518 0.21828775 0.23260926 0.22945123 0.22442143 0.24032195\n",
            " 0.25908772 0.23742309 0.23285403 0.23556091 0.24313921 0.2440607\n",
            " 0.24516457 0.25898214 0.26420872 0.27577535 0.27833824 0.28835466\n",
            " 0.31718005 0.34788681 0.31485232 0.33321015 0.33559547 0.3310792\n",
            " 0.32203707 0.33086323 0.33369489 0.3310744  0.33186631 0.34826117\n",
            " 0.34936024 0.34027491 0.32648614 0.30637653 0.3285883  0.34441682\n",
            " 0.33572985 0.33347412 0.33454919 0.33991975 0.33321975 0.31179508\n",
            " 0.26692694 0.24941415 0.2256005  0.20057693]\n",
            "4 day output [[0.17741454]]\n",
            "5 day input [0.12102727 0.12767928 0.126657   0.13142764 0.14061855 0.12474683\n",
            " 0.12982943 0.12421409 0.12964705 0.12994461 0.13382256 0.13780608\n",
            " 0.13989384 0.146925   0.14096411 0.13654383 0.13230114 0.12803444\n",
            " 0.1283704  0.12988222 0.12740572 0.12723774 0.12934949 0.12039375\n",
            " 0.12270227 0.11176437 0.11774926 0.12897513 0.1275737  0.13578552\n",
            " 0.13187879 0.12770808 0.1224767  0.12572591 0.12314862 0.121584\n",
            " 0.12138723 0.13747492 0.15908676 0.16514845 0.1605122  0.17598556\n",
            " 0.19207806 0.2010146  0.20665873 0.19794296 0.20617879 0.19852849\n",
            " 0.2103159  0.21303238 0.23353555 0.23743269 0.21564327 0.22648518\n",
            " 0.21828775 0.23260926 0.22945123 0.22442143 0.24032195 0.25908772\n",
            " 0.23742309 0.23285403 0.23556091 0.24313921 0.2440607  0.24516457\n",
            " 0.25898214 0.26420872 0.27577535 0.27833824 0.28835466 0.31718005\n",
            " 0.34788681 0.31485232 0.33321015 0.33559547 0.3310792  0.32203707\n",
            " 0.33086323 0.33369489 0.3310744  0.33186631 0.34826117 0.34936024\n",
            " 0.34027491 0.32648614 0.30637653 0.3285883  0.34441682 0.33572985\n",
            " 0.33347412 0.33454919 0.33991975 0.33321975 0.31179508 0.26692694\n",
            " 0.24941415 0.2256005  0.20057693 0.17741454]\n",
            "5 day output [[0.15763073]]\n",
            "6 day input [0.12767928 0.126657   0.13142764 0.14061855 0.12474683 0.12982943\n",
            " 0.12421409 0.12964705 0.12994461 0.13382256 0.13780608 0.13989384\n",
            " 0.146925   0.14096411 0.13654383 0.13230114 0.12803444 0.1283704\n",
            " 0.12988222 0.12740572 0.12723774 0.12934949 0.12039375 0.12270227\n",
            " 0.11176437 0.11774926 0.12897513 0.1275737  0.13578552 0.13187879\n",
            " 0.12770808 0.1224767  0.12572591 0.12314862 0.121584   0.12138723\n",
            " 0.13747492 0.15908676 0.16514845 0.1605122  0.17598556 0.19207806\n",
            " 0.2010146  0.20665873 0.19794296 0.20617879 0.19852849 0.2103159\n",
            " 0.21303238 0.23353555 0.23743269 0.21564327 0.22648518 0.21828775\n",
            " 0.23260926 0.22945123 0.22442143 0.24032195 0.25908772 0.23742309\n",
            " 0.23285403 0.23556091 0.24313921 0.2440607  0.24516457 0.25898214\n",
            " 0.26420872 0.27577535 0.27833824 0.28835466 0.31718005 0.34788681\n",
            " 0.31485232 0.33321015 0.33559547 0.3310792  0.32203707 0.33086323\n",
            " 0.33369489 0.3310744  0.33186631 0.34826117 0.34936024 0.34027491\n",
            " 0.32648614 0.30637653 0.3285883  0.34441682 0.33572985 0.33347412\n",
            " 0.33454919 0.33991975 0.33321975 0.31179508 0.26692694 0.24941415\n",
            " 0.2256005  0.20057693 0.17741454 0.15763073]\n",
            "6 day output [[0.14183821]]\n",
            "7 day input [0.126657   0.13142764 0.14061855 0.12474683 0.12982943 0.12421409\n",
            " 0.12964705 0.12994461 0.13382256 0.13780608 0.13989384 0.146925\n",
            " 0.14096411 0.13654383 0.13230114 0.12803444 0.1283704  0.12988222\n",
            " 0.12740572 0.12723774 0.12934949 0.12039375 0.12270227 0.11176437\n",
            " 0.11774926 0.12897513 0.1275737  0.13578552 0.13187879 0.12770808\n",
            " 0.1224767  0.12572591 0.12314862 0.121584   0.12138723 0.13747492\n",
            " 0.15908676 0.16514845 0.1605122  0.17598556 0.19207806 0.2010146\n",
            " 0.20665873 0.19794296 0.20617879 0.19852849 0.2103159  0.21303238\n",
            " 0.23353555 0.23743269 0.21564327 0.22648518 0.21828775 0.23260926\n",
            " 0.22945123 0.22442143 0.24032195 0.25908772 0.23742309 0.23285403\n",
            " 0.23556091 0.24313921 0.2440607  0.24516457 0.25898214 0.26420872\n",
            " 0.27577535 0.27833824 0.28835466 0.31718005 0.34788681 0.31485232\n",
            " 0.33321015 0.33559547 0.3310792  0.32203707 0.33086323 0.33369489\n",
            " 0.3310744  0.33186631 0.34826117 0.34936024 0.34027491 0.32648614\n",
            " 0.30637653 0.3285883  0.34441682 0.33572985 0.33347412 0.33454919\n",
            " 0.33991975 0.33321975 0.31179508 0.26692694 0.24941415 0.2256005\n",
            " 0.20057693 0.17741454 0.15763073 0.14183821]\n",
            "7 day output [[0.13012175]]\n",
            "8 day input [0.13142764 0.14061855 0.12474683 0.12982943 0.12421409 0.12964705\n",
            " 0.12994461 0.13382256 0.13780608 0.13989384 0.146925   0.14096411\n",
            " 0.13654383 0.13230114 0.12803444 0.1283704  0.12988222 0.12740572\n",
            " 0.12723774 0.12934949 0.12039375 0.12270227 0.11176437 0.11774926\n",
            " 0.12897513 0.1275737  0.13578552 0.13187879 0.12770808 0.1224767\n",
            " 0.12572591 0.12314862 0.121584   0.12138723 0.13747492 0.15908676\n",
            " 0.16514845 0.1605122  0.17598556 0.19207806 0.2010146  0.20665873\n",
            " 0.19794296 0.20617879 0.19852849 0.2103159  0.21303238 0.23353555\n",
            " 0.23743269 0.21564327 0.22648518 0.21828775 0.23260926 0.22945123\n",
            " 0.22442143 0.24032195 0.25908772 0.23742309 0.23285403 0.23556091\n",
            " 0.24313921 0.2440607  0.24516457 0.25898214 0.26420872 0.27577535\n",
            " 0.27833824 0.28835466 0.31718005 0.34788681 0.31485232 0.33321015\n",
            " 0.33559547 0.3310792  0.32203707 0.33086323 0.33369489 0.3310744\n",
            " 0.33186631 0.34826117 0.34936024 0.34027491 0.32648614 0.30637653\n",
            " 0.3285883  0.34441682 0.33572985 0.33347412 0.33454919 0.33991975\n",
            " 0.33321975 0.31179508 0.26692694 0.24941415 0.2256005  0.20057693\n",
            " 0.17741454 0.15763073 0.14183821 0.13012175]\n",
            "8 day output [[0.12222114]]\n",
            "9 day input [0.14061855 0.12474683 0.12982943 0.12421409 0.12964705 0.12994461\n",
            " 0.13382256 0.13780608 0.13989384 0.146925   0.14096411 0.13654383\n",
            " 0.13230114 0.12803444 0.1283704  0.12988222 0.12740572 0.12723774\n",
            " 0.12934949 0.12039375 0.12270227 0.11176437 0.11774926 0.12897513\n",
            " 0.1275737  0.13578552 0.13187879 0.12770808 0.1224767  0.12572591\n",
            " 0.12314862 0.121584   0.12138723 0.13747492 0.15908676 0.16514845\n",
            " 0.1605122  0.17598556 0.19207806 0.2010146  0.20665873 0.19794296\n",
            " 0.20617879 0.19852849 0.2103159  0.21303238 0.23353555 0.23743269\n",
            " 0.21564327 0.22648518 0.21828775 0.23260926 0.22945123 0.22442143\n",
            " 0.24032195 0.25908772 0.23742309 0.23285403 0.23556091 0.24313921\n",
            " 0.2440607  0.24516457 0.25898214 0.26420872 0.27577535 0.27833824\n",
            " 0.28835466 0.31718005 0.34788681 0.31485232 0.33321015 0.33559547\n",
            " 0.3310792  0.32203707 0.33086323 0.33369489 0.3310744  0.33186631\n",
            " 0.34826117 0.34936024 0.34027491 0.32648614 0.30637653 0.3285883\n",
            " 0.34441682 0.33572985 0.33347412 0.33454919 0.33991975 0.33321975\n",
            " 0.31179508 0.26692694 0.24941415 0.2256005  0.20057693 0.17741454\n",
            " 0.15763073 0.14183821 0.13012175 0.12222114]\n",
            "9 day output [[0.11764023]]\n",
            "10 day input [0.12474683 0.12982943 0.12421409 0.12964705 0.12994461 0.13382256\n",
            " 0.13780608 0.13989384 0.146925   0.14096411 0.13654383 0.13230114\n",
            " 0.12803444 0.1283704  0.12988222 0.12740572 0.12723774 0.12934949\n",
            " 0.12039375 0.12270227 0.11176437 0.11774926 0.12897513 0.1275737\n",
            " 0.13578552 0.13187879 0.12770808 0.1224767  0.12572591 0.12314862\n",
            " 0.121584   0.12138723 0.13747492 0.15908676 0.16514845 0.1605122\n",
            " 0.17598556 0.19207806 0.2010146  0.20665873 0.19794296 0.20617879\n",
            " 0.19852849 0.2103159  0.21303238 0.23353555 0.23743269 0.21564327\n",
            " 0.22648518 0.21828775 0.23260926 0.22945123 0.22442143 0.24032195\n",
            " 0.25908772 0.23742309 0.23285403 0.23556091 0.24313921 0.2440607\n",
            " 0.24516457 0.25898214 0.26420872 0.27577535 0.27833824 0.28835466\n",
            " 0.31718005 0.34788681 0.31485232 0.33321015 0.33559547 0.3310792\n",
            " 0.32203707 0.33086323 0.33369489 0.3310744  0.33186631 0.34826117\n",
            " 0.34936024 0.34027491 0.32648614 0.30637653 0.3285883  0.34441682\n",
            " 0.33572985 0.33347412 0.33454919 0.33991975 0.33321975 0.31179508\n",
            " 0.26692694 0.24941415 0.2256005  0.20057693 0.17741454 0.15763073\n",
            " 0.14183821 0.13012175 0.12222114 0.11764023]\n",
            "10 day output [[0.11573812]]\n",
            "11 day input [0.12982943 0.12421409 0.12964705 0.12994461 0.13382256 0.13780608\n",
            " 0.13989384 0.146925   0.14096411 0.13654383 0.13230114 0.12803444\n",
            " 0.1283704  0.12988222 0.12740572 0.12723774 0.12934949 0.12039375\n",
            " 0.12270227 0.11176437 0.11774926 0.12897513 0.1275737  0.13578552\n",
            " 0.13187879 0.12770808 0.1224767  0.12572591 0.12314862 0.121584\n",
            " 0.12138723 0.13747492 0.15908676 0.16514845 0.1605122  0.17598556\n",
            " 0.19207806 0.2010146  0.20665873 0.19794296 0.20617879 0.19852849\n",
            " 0.2103159  0.21303238 0.23353555 0.23743269 0.21564327 0.22648518\n",
            " 0.21828775 0.23260926 0.22945123 0.22442143 0.24032195 0.25908772\n",
            " 0.23742309 0.23285403 0.23556091 0.24313921 0.2440607  0.24516457\n",
            " 0.25898214 0.26420872 0.27577535 0.27833824 0.28835466 0.31718005\n",
            " 0.34788681 0.31485232 0.33321015 0.33559547 0.3310792  0.32203707\n",
            " 0.33086323 0.33369489 0.3310744  0.33186631 0.34826117 0.34936024\n",
            " 0.34027491 0.32648614 0.30637653 0.3285883  0.34441682 0.33572985\n",
            " 0.33347412 0.33454919 0.33991975 0.33321975 0.31179508 0.26692694\n",
            " 0.24941415 0.2256005  0.20057693 0.17741454 0.15763073 0.14183821\n",
            " 0.13012175 0.12222114 0.11764023 0.11573812]\n",
            "11 day output [[0.11581182]]\n",
            "12 day input [0.12421409 0.12964705 0.12994461 0.13382256 0.13780608 0.13989384\n",
            " 0.146925   0.14096411 0.13654383 0.13230114 0.12803444 0.1283704\n",
            " 0.12988222 0.12740572 0.12723774 0.12934949 0.12039375 0.12270227\n",
            " 0.11176437 0.11774926 0.12897513 0.1275737  0.13578552 0.13187879\n",
            " 0.12770808 0.1224767  0.12572591 0.12314862 0.121584   0.12138723\n",
            " 0.13747492 0.15908676 0.16514845 0.1605122  0.17598556 0.19207806\n",
            " 0.2010146  0.20665873 0.19794296 0.20617879 0.19852849 0.2103159\n",
            " 0.21303238 0.23353555 0.23743269 0.21564327 0.22648518 0.21828775\n",
            " 0.23260926 0.22945123 0.22442143 0.24032195 0.25908772 0.23742309\n",
            " 0.23285403 0.23556091 0.24313921 0.2440607  0.24516457 0.25898214\n",
            " 0.26420872 0.27577535 0.27833824 0.28835466 0.31718005 0.34788681\n",
            " 0.31485232 0.33321015 0.33559547 0.3310792  0.32203707 0.33086323\n",
            " 0.33369489 0.3310744  0.33186631 0.34826117 0.34936024 0.34027491\n",
            " 0.32648614 0.30637653 0.3285883  0.34441682 0.33572985 0.33347412\n",
            " 0.33454919 0.33991975 0.33321975 0.31179508 0.26692694 0.24941415\n",
            " 0.2256005  0.20057693 0.17741454 0.15763073 0.14183821 0.13012175\n",
            " 0.12222114 0.11764023 0.11573812 0.11581182]\n",
            "12 day output [[0.11716475]]\n",
            "13 day input [0.12964705 0.12994461 0.13382256 0.13780608 0.13989384 0.146925\n",
            " 0.14096411 0.13654383 0.13230114 0.12803444 0.1283704  0.12988222\n",
            " 0.12740572 0.12723774 0.12934949 0.12039375 0.12270227 0.11176437\n",
            " 0.11774926 0.12897513 0.1275737  0.13578552 0.13187879 0.12770808\n",
            " 0.1224767  0.12572591 0.12314862 0.121584   0.12138723 0.13747492\n",
            " 0.15908676 0.16514845 0.1605122  0.17598556 0.19207806 0.2010146\n",
            " 0.20665873 0.19794296 0.20617879 0.19852849 0.2103159  0.21303238\n",
            " 0.23353555 0.23743269 0.21564327 0.22648518 0.21828775 0.23260926\n",
            " 0.22945123 0.22442143 0.24032195 0.25908772 0.23742309 0.23285403\n",
            " 0.23556091 0.24313921 0.2440607  0.24516457 0.25898214 0.26420872\n",
            " 0.27577535 0.27833824 0.28835466 0.31718005 0.34788681 0.31485232\n",
            " 0.33321015 0.33559547 0.3310792  0.32203707 0.33086323 0.33369489\n",
            " 0.3310744  0.33186631 0.34826117 0.34936024 0.34027491 0.32648614\n",
            " 0.30637653 0.3285883  0.34441682 0.33572985 0.33347412 0.33454919\n",
            " 0.33991975 0.33321975 0.31179508 0.26692694 0.24941415 0.2256005\n",
            " 0.20057693 0.17741454 0.15763073 0.14183821 0.13012175 0.12222114\n",
            " 0.11764023 0.11573812 0.11581182 0.11716475]\n",
            "13 day output [[0.11915778]]\n",
            "14 day input [0.12994461 0.13382256 0.13780608 0.13989384 0.146925   0.14096411\n",
            " 0.13654383 0.13230114 0.12803444 0.1283704  0.12988222 0.12740572\n",
            " 0.12723774 0.12934949 0.12039375 0.12270227 0.11176437 0.11774926\n",
            " 0.12897513 0.1275737  0.13578552 0.13187879 0.12770808 0.1224767\n",
            " 0.12572591 0.12314862 0.121584   0.12138723 0.13747492 0.15908676\n",
            " 0.16514845 0.1605122  0.17598556 0.19207806 0.2010146  0.20665873\n",
            " 0.19794296 0.20617879 0.19852849 0.2103159  0.21303238 0.23353555\n",
            " 0.23743269 0.21564327 0.22648518 0.21828775 0.23260926 0.22945123\n",
            " 0.22442143 0.24032195 0.25908772 0.23742309 0.23285403 0.23556091\n",
            " 0.24313921 0.2440607  0.24516457 0.25898214 0.26420872 0.27577535\n",
            " 0.27833824 0.28835466 0.31718005 0.34788681 0.31485232 0.33321015\n",
            " 0.33559547 0.3310792  0.32203707 0.33086323 0.33369489 0.3310744\n",
            " 0.33186631 0.34826117 0.34936024 0.34027491 0.32648614 0.30637653\n",
            " 0.3285883  0.34441682 0.33572985 0.33347412 0.33454919 0.33991975\n",
            " 0.33321975 0.31179508 0.26692694 0.24941415 0.2256005  0.20057693\n",
            " 0.17741454 0.15763073 0.14183821 0.13012175 0.12222114 0.11764023\n",
            " 0.11573812 0.11581182 0.11716475 0.11915778]\n",
            "14 day output [[0.12124438]]\n",
            "15 day input [0.13382256 0.13780608 0.13989384 0.146925   0.14096411 0.13654383\n",
            " 0.13230114 0.12803444 0.1283704  0.12988222 0.12740572 0.12723774\n",
            " 0.12934949 0.12039375 0.12270227 0.11176437 0.11774926 0.12897513\n",
            " 0.1275737  0.13578552 0.13187879 0.12770808 0.1224767  0.12572591\n",
            " 0.12314862 0.121584   0.12138723 0.13747492 0.15908676 0.16514845\n",
            " 0.1605122  0.17598556 0.19207806 0.2010146  0.20665873 0.19794296\n",
            " 0.20617879 0.19852849 0.2103159  0.21303238 0.23353555 0.23743269\n",
            " 0.21564327 0.22648518 0.21828775 0.23260926 0.22945123 0.22442143\n",
            " 0.24032195 0.25908772 0.23742309 0.23285403 0.23556091 0.24313921\n",
            " 0.2440607  0.24516457 0.25898214 0.26420872 0.27577535 0.27833824\n",
            " 0.28835466 0.31718005 0.34788681 0.31485232 0.33321015 0.33559547\n",
            " 0.3310792  0.32203707 0.33086323 0.33369489 0.3310744  0.33186631\n",
            " 0.34826117 0.34936024 0.34027491 0.32648614 0.30637653 0.3285883\n",
            " 0.34441682 0.33572985 0.33347412 0.33454919 0.33991975 0.33321975\n",
            " 0.31179508 0.26692694 0.24941415 0.2256005  0.20057693 0.17741454\n",
            " 0.15763073 0.14183821 0.13012175 0.12222114 0.11764023 0.11573812\n",
            " 0.11581182 0.11716475 0.11915778 0.12124438]\n",
            "15 day output [[0.12299164]]\n",
            "16 day input [0.13780608 0.13989384 0.146925   0.14096411 0.13654383 0.13230114\n",
            " 0.12803444 0.1283704  0.12988222 0.12740572 0.12723774 0.12934949\n",
            " 0.12039375 0.12270227 0.11176437 0.11774926 0.12897513 0.1275737\n",
            " 0.13578552 0.13187879 0.12770808 0.1224767  0.12572591 0.12314862\n",
            " 0.121584   0.12138723 0.13747492 0.15908676 0.16514845 0.1605122\n",
            " 0.17598556 0.19207806 0.2010146  0.20665873 0.19794296 0.20617879\n",
            " 0.19852849 0.2103159  0.21303238 0.23353555 0.23743269 0.21564327\n",
            " 0.22648518 0.21828775 0.23260926 0.22945123 0.22442143 0.24032195\n",
            " 0.25908772 0.23742309 0.23285403 0.23556091 0.24313921 0.2440607\n",
            " 0.24516457 0.25898214 0.26420872 0.27577535 0.27833824 0.28835466\n",
            " 0.31718005 0.34788681 0.31485232 0.33321015 0.33559547 0.3310792\n",
            " 0.32203707 0.33086323 0.33369489 0.3310744  0.33186631 0.34826117\n",
            " 0.34936024 0.34027491 0.32648614 0.30637653 0.3285883  0.34441682\n",
            " 0.33572985 0.33347412 0.33454919 0.33991975 0.33321975 0.31179508\n",
            " 0.26692694 0.24941415 0.2256005  0.20057693 0.17741454 0.15763073\n",
            " 0.14183821 0.13012175 0.12222114 0.11764023 0.11573812 0.11581182\n",
            " 0.11716475 0.11915778 0.12124438 0.12299164]\n",
            "16 day output [[0.12409052]]\n",
            "17 day input [0.13989384 0.146925   0.14096411 0.13654383 0.13230114 0.12803444\n",
            " 0.1283704  0.12988222 0.12740572 0.12723774 0.12934949 0.12039375\n",
            " 0.12270227 0.11176437 0.11774926 0.12897513 0.1275737  0.13578552\n",
            " 0.13187879 0.12770808 0.1224767  0.12572591 0.12314862 0.121584\n",
            " 0.12138723 0.13747492 0.15908676 0.16514845 0.1605122  0.17598556\n",
            " 0.19207806 0.2010146  0.20665873 0.19794296 0.20617879 0.19852849\n",
            " 0.2103159  0.21303238 0.23353555 0.23743269 0.21564327 0.22648518\n",
            " 0.21828775 0.23260926 0.22945123 0.22442143 0.24032195 0.25908772\n",
            " 0.23742309 0.23285403 0.23556091 0.24313921 0.2440607  0.24516457\n",
            " 0.25898214 0.26420872 0.27577535 0.27833824 0.28835466 0.31718005\n",
            " 0.34788681 0.31485232 0.33321015 0.33559547 0.3310792  0.32203707\n",
            " 0.33086323 0.33369489 0.3310744  0.33186631 0.34826117 0.34936024\n",
            " 0.34027491 0.32648614 0.30637653 0.3285883  0.34441682 0.33572985\n",
            " 0.33347412 0.33454919 0.33991975 0.33321975 0.31179508 0.26692694\n",
            " 0.24941415 0.2256005  0.20057693 0.17741454 0.15763073 0.14183821\n",
            " 0.13012175 0.12222114 0.11764023 0.11573812 0.11581182 0.11716475\n",
            " 0.11915778 0.12124438 0.12299164 0.12409052]\n",
            "17 day output [[0.12435614]]\n",
            "18 day input [0.146925   0.14096411 0.13654383 0.13230114 0.12803444 0.1283704\n",
            " 0.12988222 0.12740572 0.12723774 0.12934949 0.12039375 0.12270227\n",
            " 0.11176437 0.11774926 0.12897513 0.1275737  0.13578552 0.13187879\n",
            " 0.12770808 0.1224767  0.12572591 0.12314862 0.121584   0.12138723\n",
            " 0.13747492 0.15908676 0.16514845 0.1605122  0.17598556 0.19207806\n",
            " 0.2010146  0.20665873 0.19794296 0.20617879 0.19852849 0.2103159\n",
            " 0.21303238 0.23353555 0.23743269 0.21564327 0.22648518 0.21828775\n",
            " 0.23260926 0.22945123 0.22442143 0.24032195 0.25908772 0.23742309\n",
            " 0.23285403 0.23556091 0.24313921 0.2440607  0.24516457 0.25898214\n",
            " 0.26420872 0.27577535 0.27833824 0.28835466 0.31718005 0.34788681\n",
            " 0.31485232 0.33321015 0.33559547 0.3310792  0.32203707 0.33086323\n",
            " 0.33369489 0.3310744  0.33186631 0.34826117 0.34936024 0.34027491\n",
            " 0.32648614 0.30637653 0.3285883  0.34441682 0.33572985 0.33347412\n",
            " 0.33454919 0.33991975 0.33321975 0.31179508 0.26692694 0.24941415\n",
            " 0.2256005  0.20057693 0.17741454 0.15763073 0.14183821 0.13012175\n",
            " 0.12222114 0.11764023 0.11573812 0.11581182 0.11716475 0.11915778\n",
            " 0.12124438 0.12299164 0.12409052 0.12435614]\n",
            "18 day output [[0.12371982]]\n",
            "19 day input [0.14096411 0.13654383 0.13230114 0.12803444 0.1283704  0.12988222\n",
            " 0.12740572 0.12723774 0.12934949 0.12039375 0.12270227 0.11176437\n",
            " 0.11774926 0.12897513 0.1275737  0.13578552 0.13187879 0.12770808\n",
            " 0.1224767  0.12572591 0.12314862 0.121584   0.12138723 0.13747492\n",
            " 0.15908676 0.16514845 0.1605122  0.17598556 0.19207806 0.2010146\n",
            " 0.20665873 0.19794296 0.20617879 0.19852849 0.2103159  0.21303238\n",
            " 0.23353555 0.23743269 0.21564327 0.22648518 0.21828775 0.23260926\n",
            " 0.22945123 0.22442143 0.24032195 0.25908772 0.23742309 0.23285403\n",
            " 0.23556091 0.24313921 0.2440607  0.24516457 0.25898214 0.26420872\n",
            " 0.27577535 0.27833824 0.28835466 0.31718005 0.34788681 0.31485232\n",
            " 0.33321015 0.33559547 0.3310792  0.32203707 0.33086323 0.33369489\n",
            " 0.3310744  0.33186631 0.34826117 0.34936024 0.34027491 0.32648614\n",
            " 0.30637653 0.3285883  0.34441682 0.33572985 0.33347412 0.33454919\n",
            " 0.33991975 0.33321975 0.31179508 0.26692694 0.24941415 0.2256005\n",
            " 0.20057693 0.17741454 0.15763073 0.14183821 0.13012175 0.12222114\n",
            " 0.11764023 0.11573812 0.11581182 0.11716475 0.11915778 0.12124438\n",
            " 0.12299164 0.12409052 0.12435614 0.12371982]\n",
            "19 day output [[0.12221373]]\n",
            "20 day input [0.13654383 0.13230114 0.12803444 0.1283704  0.12988222 0.12740572\n",
            " 0.12723774 0.12934949 0.12039375 0.12270227 0.11176437 0.11774926\n",
            " 0.12897513 0.1275737  0.13578552 0.13187879 0.12770808 0.1224767\n",
            " 0.12572591 0.12314862 0.121584   0.12138723 0.13747492 0.15908676\n",
            " 0.16514845 0.1605122  0.17598556 0.19207806 0.2010146  0.20665873\n",
            " 0.19794296 0.20617879 0.19852849 0.2103159  0.21303238 0.23353555\n",
            " 0.23743269 0.21564327 0.22648518 0.21828775 0.23260926 0.22945123\n",
            " 0.22442143 0.24032195 0.25908772 0.23742309 0.23285403 0.23556091\n",
            " 0.24313921 0.2440607  0.24516457 0.25898214 0.26420872 0.27577535\n",
            " 0.27833824 0.28835466 0.31718005 0.34788681 0.31485232 0.33321015\n",
            " 0.33559547 0.3310792  0.32203707 0.33086323 0.33369489 0.3310744\n",
            " 0.33186631 0.34826117 0.34936024 0.34027491 0.32648614 0.30637653\n",
            " 0.3285883  0.34441682 0.33572985 0.33347412 0.33454919 0.33991975\n",
            " 0.33321975 0.31179508 0.26692694 0.24941415 0.2256005  0.20057693\n",
            " 0.17741454 0.15763073 0.14183821 0.13012175 0.12222114 0.11764023\n",
            " 0.11573812 0.11581182 0.11716475 0.11915778 0.12124438 0.12299164\n",
            " 0.12409052 0.12435614 0.12371982 0.12221373]\n",
            "20 day output [[0.11995017]]\n",
            "21 day input [0.13230114 0.12803444 0.1283704  0.12988222 0.12740572 0.12723774\n",
            " 0.12934949 0.12039375 0.12270227 0.11176437 0.11774926 0.12897513\n",
            " 0.1275737  0.13578552 0.13187879 0.12770808 0.1224767  0.12572591\n",
            " 0.12314862 0.121584   0.12138723 0.13747492 0.15908676 0.16514845\n",
            " 0.1605122  0.17598556 0.19207806 0.2010146  0.20665873 0.19794296\n",
            " 0.20617879 0.19852849 0.2103159  0.21303238 0.23353555 0.23743269\n",
            " 0.21564327 0.22648518 0.21828775 0.23260926 0.22945123 0.22442143\n",
            " 0.24032195 0.25908772 0.23742309 0.23285403 0.23556091 0.24313921\n",
            " 0.2440607  0.24516457 0.25898214 0.26420872 0.27577535 0.27833824\n",
            " 0.28835466 0.31718005 0.34788681 0.31485232 0.33321015 0.33559547\n",
            " 0.3310792  0.32203707 0.33086323 0.33369489 0.3310744  0.33186631\n",
            " 0.34826117 0.34936024 0.34027491 0.32648614 0.30637653 0.3285883\n",
            " 0.34441682 0.33572985 0.33347412 0.33454919 0.33991975 0.33321975\n",
            " 0.31179508 0.26692694 0.24941415 0.2256005  0.20057693 0.17741454\n",
            " 0.15763073 0.14183821 0.13012175 0.12222114 0.11764023 0.11573812\n",
            " 0.11581182 0.11716475 0.11915778 0.12124438 0.12299164 0.12409052\n",
            " 0.12435614 0.12371982 0.12221373 0.11995017]\n",
            "21 day output [[0.11709724]]\n",
            "22 day input [0.12803444 0.1283704  0.12988222 0.12740572 0.12723774 0.12934949\n",
            " 0.12039375 0.12270227 0.11176437 0.11774926 0.12897513 0.1275737\n",
            " 0.13578552 0.13187879 0.12770808 0.1224767  0.12572591 0.12314862\n",
            " 0.121584   0.12138723 0.13747492 0.15908676 0.16514845 0.1605122\n",
            " 0.17598556 0.19207806 0.2010146  0.20665873 0.19794296 0.20617879\n",
            " 0.19852849 0.2103159  0.21303238 0.23353555 0.23743269 0.21564327\n",
            " 0.22648518 0.21828775 0.23260926 0.22945123 0.22442143 0.24032195\n",
            " 0.25908772 0.23742309 0.23285403 0.23556091 0.24313921 0.2440607\n",
            " 0.24516457 0.25898214 0.26420872 0.27577535 0.27833824 0.28835466\n",
            " 0.31718005 0.34788681 0.31485232 0.33321015 0.33559547 0.3310792\n",
            " 0.32203707 0.33086323 0.33369489 0.3310744  0.33186631 0.34826117\n",
            " 0.34936024 0.34027491 0.32648614 0.30637653 0.3285883  0.34441682\n",
            " 0.33572985 0.33347412 0.33454919 0.33991975 0.33321975 0.31179508\n",
            " 0.26692694 0.24941415 0.2256005  0.20057693 0.17741454 0.15763073\n",
            " 0.14183821 0.13012175 0.12222114 0.11764023 0.11573812 0.11581182\n",
            " 0.11716475 0.11915778 0.12124438 0.12299164 0.12409052 0.12435614\n",
            " 0.12371982 0.12221373 0.11995017 0.11709724]\n",
            "22 day output [[0.11385386]]\n",
            "23 day input [0.1283704  0.12988222 0.12740572 0.12723774 0.12934949 0.12039375\n",
            " 0.12270227 0.11176437 0.11774926 0.12897513 0.1275737  0.13578552\n",
            " 0.13187879 0.12770808 0.1224767  0.12572591 0.12314862 0.121584\n",
            " 0.12138723 0.13747492 0.15908676 0.16514845 0.1605122  0.17598556\n",
            " 0.19207806 0.2010146  0.20665873 0.19794296 0.20617879 0.19852849\n",
            " 0.2103159  0.21303238 0.23353555 0.23743269 0.21564327 0.22648518\n",
            " 0.21828775 0.23260926 0.22945123 0.22442143 0.24032195 0.25908772\n",
            " 0.23742309 0.23285403 0.23556091 0.24313921 0.2440607  0.24516457\n",
            " 0.25898214 0.26420872 0.27577535 0.27833824 0.28835466 0.31718005\n",
            " 0.34788681 0.31485232 0.33321015 0.33559547 0.3310792  0.32203707\n",
            " 0.33086323 0.33369489 0.3310744  0.33186631 0.34826117 0.34936024\n",
            " 0.34027491 0.32648614 0.30637653 0.3285883  0.34441682 0.33572985\n",
            " 0.33347412 0.33454919 0.33991975 0.33321975 0.31179508 0.26692694\n",
            " 0.24941415 0.2256005  0.20057693 0.17741454 0.15763073 0.14183821\n",
            " 0.13012175 0.12222114 0.11764023 0.11573812 0.11581182 0.11716475\n",
            " 0.11915778 0.12124438 0.12299164 0.12409052 0.12435614 0.12371982\n",
            " 0.12221373 0.11995017 0.11709724 0.11385386]\n",
            "23 day output [[0.11042587]]\n",
            "24 day input [0.12988222 0.12740572 0.12723774 0.12934949 0.12039375 0.12270227\n",
            " 0.11176437 0.11774926 0.12897513 0.1275737  0.13578552 0.13187879\n",
            " 0.12770808 0.1224767  0.12572591 0.12314862 0.121584   0.12138723\n",
            " 0.13747492 0.15908676 0.16514845 0.1605122  0.17598556 0.19207806\n",
            " 0.2010146  0.20665873 0.19794296 0.20617879 0.19852849 0.2103159\n",
            " 0.21303238 0.23353555 0.23743269 0.21564327 0.22648518 0.21828775\n",
            " 0.23260926 0.22945123 0.22442143 0.24032195 0.25908772 0.23742309\n",
            " 0.23285403 0.23556091 0.24313921 0.2440607  0.24516457 0.25898214\n",
            " 0.26420872 0.27577535 0.27833824 0.28835466 0.31718005 0.34788681\n",
            " 0.31485232 0.33321015 0.33559547 0.3310792  0.32203707 0.33086323\n",
            " 0.33369489 0.3310744  0.33186631 0.34826117 0.34936024 0.34027491\n",
            " 0.32648614 0.30637653 0.3285883  0.34441682 0.33572985 0.33347412\n",
            " 0.33454919 0.33991975 0.33321975 0.31179508 0.26692694 0.24941415\n",
            " 0.2256005  0.20057693 0.17741454 0.15763073 0.14183821 0.13012175\n",
            " 0.12222114 0.11764023 0.11573812 0.11581182 0.11716475 0.11915778\n",
            " 0.12124438 0.12299164 0.12409052 0.12435614 0.12371982 0.12221373\n",
            " 0.11995017 0.11709724 0.11385386 0.11042587]\n",
            "24 day output [[0.10700575]]\n",
            "25 day input [0.12740572 0.12723774 0.12934949 0.12039375 0.12270227 0.11176437\n",
            " 0.11774926 0.12897513 0.1275737  0.13578552 0.13187879 0.12770808\n",
            " 0.1224767  0.12572591 0.12314862 0.121584   0.12138723 0.13747492\n",
            " 0.15908676 0.16514845 0.1605122  0.17598556 0.19207806 0.2010146\n",
            " 0.20665873 0.19794296 0.20617879 0.19852849 0.2103159  0.21303238\n",
            " 0.23353555 0.23743269 0.21564327 0.22648518 0.21828775 0.23260926\n",
            " 0.22945123 0.22442143 0.24032195 0.25908772 0.23742309 0.23285403\n",
            " 0.23556091 0.24313921 0.2440607  0.24516457 0.25898214 0.26420872\n",
            " 0.27577535 0.27833824 0.28835466 0.31718005 0.34788681 0.31485232\n",
            " 0.33321015 0.33559547 0.3310792  0.32203707 0.33086323 0.33369489\n",
            " 0.3310744  0.33186631 0.34826117 0.34936024 0.34027491 0.32648614\n",
            " 0.30637653 0.3285883  0.34441682 0.33572985 0.33347412 0.33454919\n",
            " 0.33991975 0.33321975 0.31179508 0.26692694 0.24941415 0.2256005\n",
            " 0.20057693 0.17741454 0.15763073 0.14183821 0.13012175 0.12222114\n",
            " 0.11764023 0.11573812 0.11581182 0.11716475 0.11915778 0.12124438\n",
            " 0.12299164 0.12409052 0.12435614 0.12371982 0.12221373 0.11995017\n",
            " 0.11709724 0.11385386 0.11042587 0.10700575]\n",
            "25 day output [[0.10375711]]\n",
            "26 day input [0.12723774 0.12934949 0.12039375 0.12270227 0.11176437 0.11774926\n",
            " 0.12897513 0.1275737  0.13578552 0.13187879 0.12770808 0.1224767\n",
            " 0.12572591 0.12314862 0.121584   0.12138723 0.13747492 0.15908676\n",
            " 0.16514845 0.1605122  0.17598556 0.19207806 0.2010146  0.20665873\n",
            " 0.19794296 0.20617879 0.19852849 0.2103159  0.21303238 0.23353555\n",
            " 0.23743269 0.21564327 0.22648518 0.21828775 0.23260926 0.22945123\n",
            " 0.22442143 0.24032195 0.25908772 0.23742309 0.23285403 0.23556091\n",
            " 0.24313921 0.2440607  0.24516457 0.25898214 0.26420872 0.27577535\n",
            " 0.27833824 0.28835466 0.31718005 0.34788681 0.31485232 0.33321015\n",
            " 0.33559547 0.3310792  0.32203707 0.33086323 0.33369489 0.3310744\n",
            " 0.33186631 0.34826117 0.34936024 0.34027491 0.32648614 0.30637653\n",
            " 0.3285883  0.34441682 0.33572985 0.33347412 0.33454919 0.33991975\n",
            " 0.33321975 0.31179508 0.26692694 0.24941415 0.2256005  0.20057693\n",
            " 0.17741454 0.15763073 0.14183821 0.13012175 0.12222114 0.11764023\n",
            " 0.11573812 0.11581182 0.11716475 0.11915778 0.12124438 0.12299164\n",
            " 0.12409052 0.12435614 0.12371982 0.12221373 0.11995017 0.11709724\n",
            " 0.11385386 0.11042587 0.10700575 0.10375711]\n",
            "26 day output [[0.10080498]]\n",
            "27 day input [0.12934949 0.12039375 0.12270227 0.11176437 0.11774926 0.12897513\n",
            " 0.1275737  0.13578552 0.13187879 0.12770808 0.1224767  0.12572591\n",
            " 0.12314862 0.121584   0.12138723 0.13747492 0.15908676 0.16514845\n",
            " 0.1605122  0.17598556 0.19207806 0.2010146  0.20665873 0.19794296\n",
            " 0.20617879 0.19852849 0.2103159  0.21303238 0.23353555 0.23743269\n",
            " 0.21564327 0.22648518 0.21828775 0.23260926 0.22945123 0.22442143\n",
            " 0.24032195 0.25908772 0.23742309 0.23285403 0.23556091 0.24313921\n",
            " 0.2440607  0.24516457 0.25898214 0.26420872 0.27577535 0.27833824\n",
            " 0.28835466 0.31718005 0.34788681 0.31485232 0.33321015 0.33559547\n",
            " 0.3310792  0.32203707 0.33086323 0.33369489 0.3310744  0.33186631\n",
            " 0.34826117 0.34936024 0.34027491 0.32648614 0.30637653 0.3285883\n",
            " 0.34441682 0.33572985 0.33347412 0.33454919 0.33991975 0.33321975\n",
            " 0.31179508 0.26692694 0.24941415 0.2256005  0.20057693 0.17741454\n",
            " 0.15763073 0.14183821 0.13012175 0.12222114 0.11764023 0.11573812\n",
            " 0.11581182 0.11716475 0.11915778 0.12124438 0.12299164 0.12409052\n",
            " 0.12435614 0.12371982 0.12221373 0.11995017 0.11709724 0.11385386\n",
            " 0.11042587 0.10700575 0.10375711 0.10080498]\n",
            "27 day output [[0.09823136]]\n",
            "28 day input [0.12039375 0.12270227 0.11176437 0.11774926 0.12897513 0.1275737\n",
            " 0.13578552 0.13187879 0.12770808 0.1224767  0.12572591 0.12314862\n",
            " 0.121584   0.12138723 0.13747492 0.15908676 0.16514845 0.1605122\n",
            " 0.17598556 0.19207806 0.2010146  0.20665873 0.19794296 0.20617879\n",
            " 0.19852849 0.2103159  0.21303238 0.23353555 0.23743269 0.21564327\n",
            " 0.22648518 0.21828775 0.23260926 0.22945123 0.22442143 0.24032195\n",
            " 0.25908772 0.23742309 0.23285403 0.23556091 0.24313921 0.2440607\n",
            " 0.24516457 0.25898214 0.26420872 0.27577535 0.27833824 0.28835466\n",
            " 0.31718005 0.34788681 0.31485232 0.33321015 0.33559547 0.3310792\n",
            " 0.32203707 0.33086323 0.33369489 0.3310744  0.33186631 0.34826117\n",
            " 0.34936024 0.34027491 0.32648614 0.30637653 0.3285883  0.34441682\n",
            " 0.33572985 0.33347412 0.33454919 0.33991975 0.33321975 0.31179508\n",
            " 0.26692694 0.24941415 0.2256005  0.20057693 0.17741454 0.15763073\n",
            " 0.14183821 0.13012175 0.12222114 0.11764023 0.11573812 0.11581182\n",
            " 0.11716475 0.11915778 0.12124438 0.12299164 0.12409052 0.12435614\n",
            " 0.12371982 0.12221373 0.11995017 0.11709724 0.11385386 0.11042587\n",
            " 0.10700575 0.10375711 0.10080498 0.09823136]\n",
            "28 day output [[0.0960759]]\n",
            "29 day input [0.12270227 0.11176437 0.11774926 0.12897513 0.1275737  0.13578552\n",
            " 0.13187879 0.12770808 0.1224767  0.12572591 0.12314862 0.121584\n",
            " 0.12138723 0.13747492 0.15908676 0.16514845 0.1605122  0.17598556\n",
            " 0.19207806 0.2010146  0.20665873 0.19794296 0.20617879 0.19852849\n",
            " 0.2103159  0.21303238 0.23353555 0.23743269 0.21564327 0.22648518\n",
            " 0.21828775 0.23260926 0.22945123 0.22442143 0.24032195 0.25908772\n",
            " 0.23742309 0.23285403 0.23556091 0.24313921 0.2440607  0.24516457\n",
            " 0.25898214 0.26420872 0.27577535 0.27833824 0.28835466 0.31718005\n",
            " 0.34788681 0.31485232 0.33321015 0.33559547 0.3310792  0.32203707\n",
            " 0.33086323 0.33369489 0.3310744  0.33186631 0.34826117 0.34936024\n",
            " 0.34027491 0.32648614 0.30637653 0.3285883  0.34441682 0.33572985\n",
            " 0.33347412 0.33454919 0.33991975 0.33321975 0.31179508 0.26692694\n",
            " 0.24941415 0.2256005  0.20057693 0.17741454 0.15763073 0.14183821\n",
            " 0.13012175 0.12222114 0.11764023 0.11573812 0.11581182 0.11716475\n",
            " 0.11915778 0.12124438 0.12299164 0.12409052 0.12435614 0.12371982\n",
            " 0.12221373 0.11995017 0.11709724 0.11385386 0.11042587 0.10700575\n",
            " 0.10375711 0.10080498 0.09823136 0.0960759 ]\n",
            "29 day output [[0.09434023]]\n",
            "[[0.26692694425582886], [0.24941414594650269], [0.2256004959344864], [0.20057693123817444], [0.17741453647613525], [0.15763072669506073], [0.1418382078409195], [0.13012175261974335], [0.12222114205360413], [0.11764022707939148], [0.11573811620473862], [0.11581182479858398], [0.117164745926857], [0.11915778368711472], [0.12124437838792801], [0.1229916363954544], [0.1240905150771141], [0.12435614317655563], [0.12371981889009476], [0.12221372872591019], [0.11995016783475876], [0.11709724366664886], [0.11385386437177658], [0.11042587459087372], [0.10700574517250061], [0.1037571132183075], [0.10080497711896896], [0.09823136031627655], [0.09607589989900589], [0.0943402349948883]]\n"
          ],
          "name": "stdout"
        }
      ]
    },
    {
      "cell_type": "code",
      "metadata": {
        "id": "oK--Cszy5weQ"
      },
      "source": [
        "day_new=np.arange(1,101)\r\n",
        "day_pred=np.arange(101,131)"
      ],
      "execution_count": 346,
      "outputs": []
    },
    {
      "cell_type": "code",
      "metadata": {
        "colab": {
          "base_uri": "https://localhost:8080/"
        },
        "id": "Nbc8U9Gz5wjx",
        "outputId": "e10cc9f6-b70c-43c9-e621-d0e96d139f9a"
      },
      "source": [
        "import matplotlib.pyplot as plt\r\n",
        "len(df1)"
      ],
      "execution_count": 347,
      "outputs": [
        {
          "output_type": "execute_result",
          "data": {
            "text/plain": [
              "1257"
            ]
          },
          "metadata": {
            "tags": []
          },
          "execution_count": 347
        }
      ]
    },
    {
      "cell_type": "code",
      "metadata": {
        "colab": {
          "base_uri": "https://localhost:8080/",
          "height": 282
        },
        "id": "ALqsFn0274WC",
        "outputId": "6a34b26c-7f66-4223-abae-88733a6df13f"
      },
      "source": [
        "plt.plot(day_new,scaler.inverse_transform(df1[1157:]))\r\n",
        "plt.plot(day_pred,scaler.inverse_transform(lst_output))"
      ],
      "execution_count": 348,
      "outputs": [
        {
          "output_type": "execute_result",
          "data": {
            "text/plain": [
              "[<matplotlib.lines.Line2D at 0x7fa85592a9e8>]"
            ]
          },
          "metadata": {
            "tags": []
          },
          "execution_count": 348
        },
        {
          "output_type": "display_data",
          "data": {
            "image/png": "[encoded data removed]",
            "text/plain": [
              "<Figure size 432x288 with 1 Axes>"
            ]
          },
          "metadata": {
            "tags": [],
            "needs_background": "light"
          }
        }
      ]
    },
    {
      "cell_type": "code",
      "metadata": {
        "colab": {
          "base_uri": "https://localhost:8080/",
          "height": 282
        },
        "id": "xeIiiyYa74cb",
        "outputId": "d63c71a0-cb16-4f6d-da1e-478db3d741de"
      },
      "source": [
        "df3=df1.tolist()\r\n",
        "df3.extend(lst_output)\r\n",
        "plt.plot(df3[1200:])"
      ],
      "execution_count": 381,
      "outputs": [
        {
          "output_type": "execute_result",
          "data": {
            "text/plain": [
              "[<matplotlib.lines.Line2D at 0x7fa84e5dceb8>]"
            ]
          },
          "metadata": {
            "tags": []
          },
          "execution_count": 381
        },
        {
          "output_type": "display_data",
          "data": {
            "image/png": "[encoded data removed]",
            "text/plain": [
              "<Figure size 432x288 with 1 Axes>"
            ]
          },
          "metadata": {
            "tags": [],
            "needs_background": "light"
          }
        }
      ]
    },
    {
      "cell_type": "code",
      "metadata": {
        "id": "ZWH6Y00C9tVB"
      },
      "source": [
        "df3=scaler.inverse_transform(df3).tolist()"
      ],
      "execution_count": 382,
      "outputs": []
    },
    {
      "cell_type": "code",
      "metadata": {
        "colab": {
          "base_uri": "https://localhost:8080/",
          "height": 282
        },
        "id": "tlj9_vXi9thH",
        "outputId": "c8b9fa2e-c9f0-4d73-e489-cafd3925eeac"
      },
      "source": [
        "plt.plot(df3)"
      ],
      "execution_count": 351,
      "outputs": [
        {
          "output_type": "execute_result",
          "data": {
            "text/plain": [
              "[<matplotlib.lines.Line2D at 0x7fa85576c2b0>]"
            ]
          },
          "metadata": {
            "tags": []
          },
          "execution_count": 351
        },
        {
          "output_type": "display_data",
          "data": {
            "image/png": "[encoded data removed]",
            "text/plain": [
              "<Figure size 432x288 with 1 Axes>"
            ]
          },
          "metadata": {
            "tags": [],
            "needs_background": "light"
          }
        }
      ]
    }
  ]
}